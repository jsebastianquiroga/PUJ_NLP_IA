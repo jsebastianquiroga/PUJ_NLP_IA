{
  "nbformat": 4,
  "nbformat_minor": 0,
  "metadata": {
    "colab": {
      "provenance": [],
      "gpuType": "T4",
      "include_colab_link": true
    },
    "kernelspec": {
      "name": "python3",
      "display_name": "Python 3"
    },
    "language_info": {
      "name": "python"
    },
    "accelerator": "GPU"
  },
  "cells": [
    {
      "cell_type": "markdown",
      "metadata": {
        "id": "view-in-github",
        "colab_type": "text"
      },
      "source": [
        "<a href=\"https://colab.research.google.com/github/jsebastianquiroga/PUJ_NLP_IA/blob/main/Talleres/Taller2/Taller_2.ipynb\" target=\"_parent\"><img src=\"https://colab.research.google.com/assets/colab-badge.svg\" alt=\"Open In Colab\"/></a>"
      ]
    },
    {
      "cell_type": "markdown",
      "source": [
        "#Acceder a drive"
      ],
      "metadata": {
        "id": "NCh0hUMqlqMW"
      }
    },
    {
      "cell_type": "code",
      "execution_count": 1,
      "metadata": {
        "colab": {
          "base_uri": "https://localhost:8080/"
        },
        "id": "SMOOpGwhfwRT",
        "outputId": "297b0268-1f7c-43e9-d176-b9abdf1c0f8d"
      },
      "outputs": [
        {
          "output_type": "stream",
          "name": "stdout",
          "text": [
            "Drive already mounted at /content/drive; to attempt to forcibly remount, call drive.mount(\"/content/drive\", force_remount=True).\n"
          ]
        }
      ],
      "source": [
        "from google.colab import drive\n",
        "drive.mount('/content/drive')"
      ]
    },
    {
      "cell_type": "markdown",
      "source": [
        "#Librerias"
      ],
      "metadata": {
        "id": "GF3Q5ZVUlvqJ"
      }
    },
    {
      "cell_type": "code",
      "source": [
        "import numpy as np\n",
        "import pandas as pd\n",
        "import matplotlib.pyplot as plt\n",
        "import seaborn as sns\n",
        "import tensorflow as tf"
      ],
      "metadata": {
        "id": "TCxPpy0AgVxY"
      },
      "execution_count": 2,
      "outputs": []
    },
    {
      "cell_type": "markdown",
      "source": [
        "#Introducción\n",
        "<img src = \"https://drive.google.com/uc?id=161ZgI4HuY2Sy_3K5yJWc3lUdn_8Pe8qG\">\n",
        "\n",
        "* geo: geographical entity\n",
        "* org: organization\n",
        "* per: person\n",
        "* gpe: geopolitical entity\n",
        "* tim: time indicator\n",
        "* art: artifact\n",
        "* eve: event\n",
        "* nat: natural phenomenon\n",
        "* O: filler word"
      ],
      "metadata": {
        "id": "_6LefcsqkV3p"
      }
    },
    {
      "cell_type": "markdown",
      "source": [
        "If you had the sentence\n",
        "\n",
        "**\"Sharon flew to Miami on Friday\"**\n",
        "\n",
        "The tags would look like:\n",
        "\n",
        "```\n",
        "Sharon B-per\n",
        "flew   O\n",
        "to     O\n",
        "Miami  B-geo\n",
        "on     O\n",
        "Friday B-tim\n",
        "```\n",
        "\n",
        "where you would have three tokens beginning with B-, since there are no multi-token entities in the sequence. But if you added Sharon's last name to the sentence:\n",
        "\n",
        "**\"Sharon Floyd flew to Miami on Friday\"**\n",
        "\n",
        "```\n",
        "Sharon B-per\n",
        "Floyd  I-per\n",
        "flew   O\n",
        "to     O\n",
        "Miami  B-geo\n",
        "on     O\n",
        "Friday B-tim\n",
        "```\n",
        "\n",
        "your tags would change to show first \"Sharon\" as B-per, and \"Floyd\" as I-per, where I- indicates an inner token in a multi-token sequence."
      ],
      "metadata": {
        "id": "p4gZfn-Nr_oJ"
      }
    },
    {
      "cell_type": "markdown",
      "source": [
        "#Cargar los datos"
      ],
      "metadata": {
        "id": "Qi93q8wNx1If"
      }
    },
    {
      "cell_type": "code",
      "source": [
        "# falta este archivo\n",
        "data_path = \"/tmp/ner_dataset.csv\"\n",
        "data = pd.read_csv(data_path, encoding= 'unicode_escape')\n",
        "data.fillna(method = 'ffill', inplace = True)\n",
        "\n",
        "tags = data.Tag.unique()"
      ],
      "metadata": {
        "id": "Vve-KwRD8QxS"
      },
      "execution_count": 3,
      "outputs": []
    },
    {
      "cell_type": "code",
      "source": [
        "ready_dist_path = \"/tmp/ner.csv\"\n",
        "ready_data = pd.read_csv(ready_dist_path)\n",
        "ready_data.head()"
      ],
      "metadata": {
        "colab": {
          "base_uri": "https://localhost:8080/",
          "height": 206
        },
        "id": "-78zi67hyFF5",
        "outputId": "e96e0b50-1657-4a67-9672-63bb968067de"
      },
      "execution_count": 4,
      "outputs": [
        {
          "output_type": "execute_result",
          "data": {
            "text/plain": [
              "    Sentence #                                           Sentence  \\\n",
              "0  Sentence: 1  Thousands of demonstrators have marched throug...   \n",
              "1  Sentence: 2  Families of soldiers killed in the conflict jo...   \n",
              "2  Sentence: 3  They marched from the Houses of Parliament to ...   \n",
              "3  Sentence: 4  Police put the number of marchers at 10,000 wh...   \n",
              "4  Sentence: 5  The protest comes on the eve of the annual con...   \n",
              "\n",
              "                                                 POS  \\\n",
              "0  ['NNS', 'IN', 'NNS', 'VBP', 'VBN', 'IN', 'NNP'...   \n",
              "1  ['NNS', 'IN', 'NNS', 'VBN', 'IN', 'DT', 'NN', ...   \n",
              "2  ['PRP', 'VBD', 'IN', 'DT', 'NNS', 'IN', 'NN', ...   \n",
              "3  ['NNS', 'VBD', 'DT', 'NN', 'IN', 'NNS', 'IN', ...   \n",
              "4  ['DT', 'NN', 'VBZ', 'IN', 'DT', 'NN', 'IN', 'D...   \n",
              "\n",
              "                                                 Tag  \n",
              "0  ['O', 'O', 'O', 'O', 'O', 'O', 'B-geo', 'O', '...  \n",
              "1  ['O', 'O', 'O', 'O', 'O', 'O', 'O', 'O', 'O', ...  \n",
              "2  ['O', 'O', 'O', 'O', 'O', 'O', 'O', 'O', 'O', ...  \n",
              "3  ['O', 'O', 'O', 'O', 'O', 'O', 'O', 'O', 'O', ...  \n",
              "4  ['O', 'O', 'O', 'O', 'O', 'O', 'O', 'O', 'O', ...  "
            ],
            "text/html": [
              "\n",
              "  <div id=\"df-6f275314-4eb7-4720-a2f8-499b17d33d2e\" class=\"colab-df-container\">\n",
              "    <div>\n",
              "<style scoped>\n",
              "    .dataframe tbody tr th:only-of-type {\n",
              "        vertical-align: middle;\n",
              "    }\n",
              "\n",
              "    .dataframe tbody tr th {\n",
              "        vertical-align: top;\n",
              "    }\n",
              "\n",
              "    .dataframe thead th {\n",
              "        text-align: right;\n",
              "    }\n",
              "</style>\n",
              "<table border=\"1\" class=\"dataframe\">\n",
              "  <thead>\n",
              "    <tr style=\"text-align: right;\">\n",
              "      <th></th>\n",
              "      <th>Sentence #</th>\n",
              "      <th>Sentence</th>\n",
              "      <th>POS</th>\n",
              "      <th>Tag</th>\n",
              "    </tr>\n",
              "  </thead>\n",
              "  <tbody>\n",
              "    <tr>\n",
              "      <th>0</th>\n",
              "      <td>Sentence: 1</td>\n",
              "      <td>Thousands of demonstrators have marched throug...</td>\n",
              "      <td>['NNS', 'IN', 'NNS', 'VBP', 'VBN', 'IN', 'NNP'...</td>\n",
              "      <td>['O', 'O', 'O', 'O', 'O', 'O', 'B-geo', 'O', '...</td>\n",
              "    </tr>\n",
              "    <tr>\n",
              "      <th>1</th>\n",
              "      <td>Sentence: 2</td>\n",
              "      <td>Families of soldiers killed in the conflict jo...</td>\n",
              "      <td>['NNS', 'IN', 'NNS', 'VBN', 'IN', 'DT', 'NN', ...</td>\n",
              "      <td>['O', 'O', 'O', 'O', 'O', 'O', 'O', 'O', 'O', ...</td>\n",
              "    </tr>\n",
              "    <tr>\n",
              "      <th>2</th>\n",
              "      <td>Sentence: 3</td>\n",
              "      <td>They marched from the Houses of Parliament to ...</td>\n",
              "      <td>['PRP', 'VBD', 'IN', 'DT', 'NNS', 'IN', 'NN', ...</td>\n",
              "      <td>['O', 'O', 'O', 'O', 'O', 'O', 'O', 'O', 'O', ...</td>\n",
              "    </tr>\n",
              "    <tr>\n",
              "      <th>3</th>\n",
              "      <td>Sentence: 4</td>\n",
              "      <td>Police put the number of marchers at 10,000 wh...</td>\n",
              "      <td>['NNS', 'VBD', 'DT', 'NN', 'IN', 'NNS', 'IN', ...</td>\n",
              "      <td>['O', 'O', 'O', 'O', 'O', 'O', 'O', 'O', 'O', ...</td>\n",
              "    </tr>\n",
              "    <tr>\n",
              "      <th>4</th>\n",
              "      <td>Sentence: 5</td>\n",
              "      <td>The protest comes on the eve of the annual con...</td>\n",
              "      <td>['DT', 'NN', 'VBZ', 'IN', 'DT', 'NN', 'IN', 'D...</td>\n",
              "      <td>['O', 'O', 'O', 'O', 'O', 'O', 'O', 'O', 'O', ...</td>\n",
              "    </tr>\n",
              "  </tbody>\n",
              "</table>\n",
              "</div>\n",
              "    <div class=\"colab-df-buttons\">\n",
              "\n",
              "  <div class=\"colab-df-container\">\n",
              "    <button class=\"colab-df-convert\" onclick=\"convertToInteractive('df-6f275314-4eb7-4720-a2f8-499b17d33d2e')\"\n",
              "            title=\"Convert this dataframe to an interactive table.\"\n",
              "            style=\"display:none;\">\n",
              "\n",
              "  <svg xmlns=\"http://www.w3.org/2000/svg\" height=\"24px\" viewBox=\"0 -960 960 960\">\n",
              "    <path d=\"M120-120v-720h720v720H120Zm60-500h600v-160H180v160Zm220 220h160v-160H400v160Zm0 220h160v-160H400v160ZM180-400h160v-160H180v160Zm440 0h160v-160H620v160ZM180-180h160v-160H180v160Zm440 0h160v-160H620v160Z\"/>\n",
              "  </svg>\n",
              "    </button>\n",
              "\n",
              "  <style>\n",
              "    .colab-df-container {\n",
              "      display:flex;\n",
              "      gap: 12px;\n",
              "    }\n",
              "\n",
              "    .colab-df-convert {\n",
              "      background-color: #E8F0FE;\n",
              "      border: none;\n",
              "      border-radius: 50%;\n",
              "      cursor: pointer;\n",
              "      display: none;\n",
              "      fill: #1967D2;\n",
              "      height: 32px;\n",
              "      padding: 0 0 0 0;\n",
              "      width: 32px;\n",
              "    }\n",
              "\n",
              "    .colab-df-convert:hover {\n",
              "      background-color: #E2EBFA;\n",
              "      box-shadow: 0px 1px 2px rgba(60, 64, 67, 0.3), 0px 1px 3px 1px rgba(60, 64, 67, 0.15);\n",
              "      fill: #174EA6;\n",
              "    }\n",
              "\n",
              "    .colab-df-buttons div {\n",
              "      margin-bottom: 4px;\n",
              "    }\n",
              "\n",
              "    [theme=dark] .colab-df-convert {\n",
              "      background-color: #3B4455;\n",
              "      fill: #D2E3FC;\n",
              "    }\n",
              "\n",
              "    [theme=dark] .colab-df-convert:hover {\n",
              "      background-color: #434B5C;\n",
              "      box-shadow: 0px 1px 3px 1px rgba(0, 0, 0, 0.15);\n",
              "      filter: drop-shadow(0px 1px 2px rgba(0, 0, 0, 0.3));\n",
              "      fill: #FFFFFF;\n",
              "    }\n",
              "  </style>\n",
              "\n",
              "    <script>\n",
              "      const buttonEl =\n",
              "        document.querySelector('#df-6f275314-4eb7-4720-a2f8-499b17d33d2e button.colab-df-convert');\n",
              "      buttonEl.style.display =\n",
              "        google.colab.kernel.accessAllowed ? 'block' : 'none';\n",
              "\n",
              "      async function convertToInteractive(key) {\n",
              "        const element = document.querySelector('#df-6f275314-4eb7-4720-a2f8-499b17d33d2e');\n",
              "        const dataTable =\n",
              "          await google.colab.kernel.invokeFunction('convertToInteractive',\n",
              "                                                    [key], {});\n",
              "        if (!dataTable) return;\n",
              "\n",
              "        const docLinkHtml = 'Like what you see? Visit the ' +\n",
              "          '<a target=\"_blank\" href=https://colab.research.google.com/notebooks/data_table.ipynb>data table notebook</a>'\n",
              "          + ' to learn more about interactive tables.';\n",
              "        element.innerHTML = '';\n",
              "        dataTable['output_type'] = 'display_data';\n",
              "        await google.colab.output.renderOutput(dataTable, element);\n",
              "        const docLink = document.createElement('div');\n",
              "        docLink.innerHTML = docLinkHtml;\n",
              "        element.appendChild(docLink);\n",
              "      }\n",
              "    </script>\n",
              "  </div>\n",
              "\n",
              "\n",
              "<div id=\"df-0ae1c3ad-4b72-4f80-aa7f-939d6f20fa4f\">\n",
              "  <button class=\"colab-df-quickchart\" onclick=\"quickchart('df-0ae1c3ad-4b72-4f80-aa7f-939d6f20fa4f')\"\n",
              "            title=\"Suggest charts.\"\n",
              "            style=\"display:none;\">\n",
              "\n",
              "<svg xmlns=\"http://www.w3.org/2000/svg\" height=\"24px\"viewBox=\"0 0 24 24\"\n",
              "     width=\"24px\">\n",
              "    <g>\n",
              "        <path d=\"M19 3H5c-1.1 0-2 .9-2 2v14c0 1.1.9 2 2 2h14c1.1 0 2-.9 2-2V5c0-1.1-.9-2-2-2zM9 17H7v-7h2v7zm4 0h-2V7h2v10zm4 0h-2v-4h2v4z\"/>\n",
              "    </g>\n",
              "</svg>\n",
              "  </button>\n",
              "\n",
              "<style>\n",
              "  .colab-df-quickchart {\n",
              "    background-color: #E8F0FE;\n",
              "    border: none;\n",
              "    border-radius: 50%;\n",
              "    cursor: pointer;\n",
              "    display: none;\n",
              "    fill: #1967D2;\n",
              "    height: 32px;\n",
              "    padding: 0 0 0 0;\n",
              "    width: 32px;\n",
              "  }\n",
              "\n",
              "  .colab-df-quickchart:hover {\n",
              "    background-color: #E2EBFA;\n",
              "    box-shadow: 0px 1px 2px rgba(60, 64, 67, 0.3), 0px 1px 3px 1px rgba(60, 64, 67, 0.15);\n",
              "    fill: #174EA6;\n",
              "  }\n",
              "\n",
              "  [theme=dark] .colab-df-quickchart {\n",
              "    background-color: #3B4455;\n",
              "    fill: #D2E3FC;\n",
              "  }\n",
              "\n",
              "  [theme=dark] .colab-df-quickchart:hover {\n",
              "    background-color: #434B5C;\n",
              "    box-shadow: 0px 1px 3px 1px rgba(0, 0, 0, 0.15);\n",
              "    filter: drop-shadow(0px 1px 2px rgba(0, 0, 0, 0.3));\n",
              "    fill: #FFFFFF;\n",
              "  }\n",
              "</style>\n",
              "\n",
              "  <script>\n",
              "    async function quickchart(key) {\n",
              "      const charts = await google.colab.kernel.invokeFunction(\n",
              "          'suggestCharts', [key], {});\n",
              "    }\n",
              "    (() => {\n",
              "      let quickchartButtonEl =\n",
              "        document.querySelector('#df-0ae1c3ad-4b72-4f80-aa7f-939d6f20fa4f button');\n",
              "      quickchartButtonEl.style.display =\n",
              "        google.colab.kernel.accessAllowed ? 'block' : 'none';\n",
              "    })();\n",
              "  </script>\n",
              "</div>\n",
              "    </div>\n",
              "  </div>\n"
            ]
          },
          "metadata": {},
          "execution_count": 4
        }
      ]
    },
    {
      "cell_type": "markdown",
      "source": [
        "#Data preprocessing"
      ],
      "metadata": {
        "id": "79poxK1o1uXy"
      }
    },
    {
      "cell_type": "code",
      "source": [
        "ready_data.head()"
      ],
      "metadata": {
        "colab": {
          "base_uri": "https://localhost:8080/",
          "height": 206
        },
        "id": "zVAx0Osl1py1",
        "outputId": "e661609a-84c2-4015-9891-e64e012641b7"
      },
      "execution_count": 5,
      "outputs": [
        {
          "output_type": "execute_result",
          "data": {
            "text/plain": [
              "    Sentence #                                           Sentence  \\\n",
              "0  Sentence: 1  Thousands of demonstrators have marched throug...   \n",
              "1  Sentence: 2  Families of soldiers killed in the conflict jo...   \n",
              "2  Sentence: 3  They marched from the Houses of Parliament to ...   \n",
              "3  Sentence: 4  Police put the number of marchers at 10,000 wh...   \n",
              "4  Sentence: 5  The protest comes on the eve of the annual con...   \n",
              "\n",
              "                                                 POS  \\\n",
              "0  ['NNS', 'IN', 'NNS', 'VBP', 'VBN', 'IN', 'NNP'...   \n",
              "1  ['NNS', 'IN', 'NNS', 'VBN', 'IN', 'DT', 'NN', ...   \n",
              "2  ['PRP', 'VBD', 'IN', 'DT', 'NNS', 'IN', 'NN', ...   \n",
              "3  ['NNS', 'VBD', 'DT', 'NN', 'IN', 'NNS', 'IN', ...   \n",
              "4  ['DT', 'NN', 'VBZ', 'IN', 'DT', 'NN', 'IN', 'D...   \n",
              "\n",
              "                                                 Tag  \n",
              "0  ['O', 'O', 'O', 'O', 'O', 'O', 'B-geo', 'O', '...  \n",
              "1  ['O', 'O', 'O', 'O', 'O', 'O', 'O', 'O', 'O', ...  \n",
              "2  ['O', 'O', 'O', 'O', 'O', 'O', 'O', 'O', 'O', ...  \n",
              "3  ['O', 'O', 'O', 'O', 'O', 'O', 'O', 'O', 'O', ...  \n",
              "4  ['O', 'O', 'O', 'O', 'O', 'O', 'O', 'O', 'O', ...  "
            ],
            "text/html": [
              "\n",
              "  <div id=\"df-888d9a6c-077d-45a9-a851-609b3ea78b8e\" class=\"colab-df-container\">\n",
              "    <div>\n",
              "<style scoped>\n",
              "    .dataframe tbody tr th:only-of-type {\n",
              "        vertical-align: middle;\n",
              "    }\n",
              "\n",
              "    .dataframe tbody tr th {\n",
              "        vertical-align: top;\n",
              "    }\n",
              "\n",
              "    .dataframe thead th {\n",
              "        text-align: right;\n",
              "    }\n",
              "</style>\n",
              "<table border=\"1\" class=\"dataframe\">\n",
              "  <thead>\n",
              "    <tr style=\"text-align: right;\">\n",
              "      <th></th>\n",
              "      <th>Sentence #</th>\n",
              "      <th>Sentence</th>\n",
              "      <th>POS</th>\n",
              "      <th>Tag</th>\n",
              "    </tr>\n",
              "  </thead>\n",
              "  <tbody>\n",
              "    <tr>\n",
              "      <th>0</th>\n",
              "      <td>Sentence: 1</td>\n",
              "      <td>Thousands of demonstrators have marched throug...</td>\n",
              "      <td>['NNS', 'IN', 'NNS', 'VBP', 'VBN', 'IN', 'NNP'...</td>\n",
              "      <td>['O', 'O', 'O', 'O', 'O', 'O', 'B-geo', 'O', '...</td>\n",
              "    </tr>\n",
              "    <tr>\n",
              "      <th>1</th>\n",
              "      <td>Sentence: 2</td>\n",
              "      <td>Families of soldiers killed in the conflict jo...</td>\n",
              "      <td>['NNS', 'IN', 'NNS', 'VBN', 'IN', 'DT', 'NN', ...</td>\n",
              "      <td>['O', 'O', 'O', 'O', 'O', 'O', 'O', 'O', 'O', ...</td>\n",
              "    </tr>\n",
              "    <tr>\n",
              "      <th>2</th>\n",
              "      <td>Sentence: 3</td>\n",
              "      <td>They marched from the Houses of Parliament to ...</td>\n",
              "      <td>['PRP', 'VBD', 'IN', 'DT', 'NNS', 'IN', 'NN', ...</td>\n",
              "      <td>['O', 'O', 'O', 'O', 'O', 'O', 'O', 'O', 'O', ...</td>\n",
              "    </tr>\n",
              "    <tr>\n",
              "      <th>3</th>\n",
              "      <td>Sentence: 4</td>\n",
              "      <td>Police put the number of marchers at 10,000 wh...</td>\n",
              "      <td>['NNS', 'VBD', 'DT', 'NN', 'IN', 'NNS', 'IN', ...</td>\n",
              "      <td>['O', 'O', 'O', 'O', 'O', 'O', 'O', 'O', 'O', ...</td>\n",
              "    </tr>\n",
              "    <tr>\n",
              "      <th>4</th>\n",
              "      <td>Sentence: 5</td>\n",
              "      <td>The protest comes on the eve of the annual con...</td>\n",
              "      <td>['DT', 'NN', 'VBZ', 'IN', 'DT', 'NN', 'IN', 'D...</td>\n",
              "      <td>['O', 'O', 'O', 'O', 'O', 'O', 'O', 'O', 'O', ...</td>\n",
              "    </tr>\n",
              "  </tbody>\n",
              "</table>\n",
              "</div>\n",
              "    <div class=\"colab-df-buttons\">\n",
              "\n",
              "  <div class=\"colab-df-container\">\n",
              "    <button class=\"colab-df-convert\" onclick=\"convertToInteractive('df-888d9a6c-077d-45a9-a851-609b3ea78b8e')\"\n",
              "            title=\"Convert this dataframe to an interactive table.\"\n",
              "            style=\"display:none;\">\n",
              "\n",
              "  <svg xmlns=\"http://www.w3.org/2000/svg\" height=\"24px\" viewBox=\"0 -960 960 960\">\n",
              "    <path d=\"M120-120v-720h720v720H120Zm60-500h600v-160H180v160Zm220 220h160v-160H400v160Zm0 220h160v-160H400v160ZM180-400h160v-160H180v160Zm440 0h160v-160H620v160ZM180-180h160v-160H180v160Zm440 0h160v-160H620v160Z\"/>\n",
              "  </svg>\n",
              "    </button>\n",
              "\n",
              "  <style>\n",
              "    .colab-df-container {\n",
              "      display:flex;\n",
              "      gap: 12px;\n",
              "    }\n",
              "\n",
              "    .colab-df-convert {\n",
              "      background-color: #E8F0FE;\n",
              "      border: none;\n",
              "      border-radius: 50%;\n",
              "      cursor: pointer;\n",
              "      display: none;\n",
              "      fill: #1967D2;\n",
              "      height: 32px;\n",
              "      padding: 0 0 0 0;\n",
              "      width: 32px;\n",
              "    }\n",
              "\n",
              "    .colab-df-convert:hover {\n",
              "      background-color: #E2EBFA;\n",
              "      box-shadow: 0px 1px 2px rgba(60, 64, 67, 0.3), 0px 1px 3px 1px rgba(60, 64, 67, 0.15);\n",
              "      fill: #174EA6;\n",
              "    }\n",
              "\n",
              "    .colab-df-buttons div {\n",
              "      margin-bottom: 4px;\n",
              "    }\n",
              "\n",
              "    [theme=dark] .colab-df-convert {\n",
              "      background-color: #3B4455;\n",
              "      fill: #D2E3FC;\n",
              "    }\n",
              "\n",
              "    [theme=dark] .colab-df-convert:hover {\n",
              "      background-color: #434B5C;\n",
              "      box-shadow: 0px 1px 3px 1px rgba(0, 0, 0, 0.15);\n",
              "      filter: drop-shadow(0px 1px 2px rgba(0, 0, 0, 0.3));\n",
              "      fill: #FFFFFF;\n",
              "    }\n",
              "  </style>\n",
              "\n",
              "    <script>\n",
              "      const buttonEl =\n",
              "        document.querySelector('#df-888d9a6c-077d-45a9-a851-609b3ea78b8e button.colab-df-convert');\n",
              "      buttonEl.style.display =\n",
              "        google.colab.kernel.accessAllowed ? 'block' : 'none';\n",
              "\n",
              "      async function convertToInteractive(key) {\n",
              "        const element = document.querySelector('#df-888d9a6c-077d-45a9-a851-609b3ea78b8e');\n",
              "        const dataTable =\n",
              "          await google.colab.kernel.invokeFunction('convertToInteractive',\n",
              "                                                    [key], {});\n",
              "        if (!dataTable) return;\n",
              "\n",
              "        const docLinkHtml = 'Like what you see? Visit the ' +\n",
              "          '<a target=\"_blank\" href=https://colab.research.google.com/notebooks/data_table.ipynb>data table notebook</a>'\n",
              "          + ' to learn more about interactive tables.';\n",
              "        element.innerHTML = '';\n",
              "        dataTable['output_type'] = 'display_data';\n",
              "        await google.colab.output.renderOutput(dataTable, element);\n",
              "        const docLink = document.createElement('div');\n",
              "        docLink.innerHTML = docLinkHtml;\n",
              "        element.appendChild(docLink);\n",
              "      }\n",
              "    </script>\n",
              "  </div>\n",
              "\n",
              "\n",
              "<div id=\"df-121bd625-f984-473b-b529-3c7041cb821f\">\n",
              "  <button class=\"colab-df-quickchart\" onclick=\"quickchart('df-121bd625-f984-473b-b529-3c7041cb821f')\"\n",
              "            title=\"Suggest charts.\"\n",
              "            style=\"display:none;\">\n",
              "\n",
              "<svg xmlns=\"http://www.w3.org/2000/svg\" height=\"24px\"viewBox=\"0 0 24 24\"\n",
              "     width=\"24px\">\n",
              "    <g>\n",
              "        <path d=\"M19 3H5c-1.1 0-2 .9-2 2v14c0 1.1.9 2 2 2h14c1.1 0 2-.9 2-2V5c0-1.1-.9-2-2-2zM9 17H7v-7h2v7zm4 0h-2V7h2v10zm4 0h-2v-4h2v4z\"/>\n",
              "    </g>\n",
              "</svg>\n",
              "  </button>\n",
              "\n",
              "<style>\n",
              "  .colab-df-quickchart {\n",
              "    background-color: #E8F0FE;\n",
              "    border: none;\n",
              "    border-radius: 50%;\n",
              "    cursor: pointer;\n",
              "    display: none;\n",
              "    fill: #1967D2;\n",
              "    height: 32px;\n",
              "    padding: 0 0 0 0;\n",
              "    width: 32px;\n",
              "  }\n",
              "\n",
              "  .colab-df-quickchart:hover {\n",
              "    background-color: #E2EBFA;\n",
              "    box-shadow: 0px 1px 2px rgba(60, 64, 67, 0.3), 0px 1px 3px 1px rgba(60, 64, 67, 0.15);\n",
              "    fill: #174EA6;\n",
              "  }\n",
              "\n",
              "  [theme=dark] .colab-df-quickchart {\n",
              "    background-color: #3B4455;\n",
              "    fill: #D2E3FC;\n",
              "  }\n",
              "\n",
              "  [theme=dark] .colab-df-quickchart:hover {\n",
              "    background-color: #434B5C;\n",
              "    box-shadow: 0px 1px 3px 1px rgba(0, 0, 0, 0.15);\n",
              "    filter: drop-shadow(0px 1px 2px rgba(0, 0, 0, 0.3));\n",
              "    fill: #FFFFFF;\n",
              "  }\n",
              "</style>\n",
              "\n",
              "  <script>\n",
              "    async function quickchart(key) {\n",
              "      const charts = await google.colab.kernel.invokeFunction(\n",
              "          'suggestCharts', [key], {});\n",
              "    }\n",
              "    (() => {\n",
              "      let quickchartButtonEl =\n",
              "        document.querySelector('#df-121bd625-f984-473b-b529-3c7041cb821f button');\n",
              "      quickchartButtonEl.style.display =\n",
              "        google.colab.kernel.accessAllowed ? 'block' : 'none';\n",
              "    })();\n",
              "  </script>\n",
              "</div>\n",
              "    </div>\n",
              "  </div>\n"
            ]
          },
          "metadata": {},
          "execution_count": 5
        }
      ]
    },
    {
      "cell_type": "code",
      "source": [
        "X = list(ready_data['Sentence'])\n",
        "Y = list(ready_data['Tag'])"
      ],
      "metadata": {
        "id": "Ea1PfEav1zZZ"
      },
      "execution_count": 6,
      "outputs": []
    },
    {
      "cell_type": "code",
      "source": [
        "from ast import literal_eval\n",
        "Y_ready = []\n",
        "\n",
        "for sen_tags in Y:\n",
        "    Y_ready.append(literal_eval(sen_tags))"
      ],
      "metadata": {
        "id": "jDq5LLvn11ol"
      },
      "execution_count": 7,
      "outputs": []
    },
    {
      "cell_type": "code",
      "source": [
        "print(\"First three sentences: \\n\")\n",
        "print(X[:3])"
      ],
      "metadata": {
        "colab": {
          "base_uri": "https://localhost:8080/"
        },
        "id": "dmUJPHfb14Vx",
        "outputId": "131e6b86-ade0-461c-ce81-9d36be13c13c"
      },
      "execution_count": 8,
      "outputs": [
        {
          "output_type": "stream",
          "name": "stdout",
          "text": [
            "First three sentences: \n",
            "\n",
            "['Thousands of demonstrators have marched through London to protest the war in Iraq and demand the withdrawal of British troops from that country .', 'Families of soldiers killed in the conflict joined the protesters who carried banners with such slogans as \" Bush Number One Terrorist \" and \" Stop the Bombings . \"', 'They marched from the Houses of Parliament to a rally in Hyde Park .']\n"
          ]
        }
      ]
    },
    {
      "cell_type": "code",
      "source": [
        "print(\"First three Tags: \\n\")\n",
        "print(Y_ready[:3])"
      ],
      "metadata": {
        "colab": {
          "base_uri": "https://localhost:8080/"
        },
        "id": "KpXmlPR416Gd",
        "outputId": "6ebed05b-5099-4964-8745-a4b70639aab1"
      },
      "execution_count": 9,
      "outputs": [
        {
          "output_type": "stream",
          "name": "stdout",
          "text": [
            "First three Tags: \n",
            "\n",
            "[['O', 'O', 'O', 'O', 'O', 'O', 'B-geo', 'O', 'O', 'O', 'O', 'O', 'B-geo', 'O', 'O', 'O', 'O', 'O', 'B-gpe', 'O', 'O', 'O', 'O', 'O'], ['O', 'O', 'O', 'O', 'O', 'O', 'O', 'O', 'O', 'O', 'O', 'O', 'O', 'O', 'O', 'O', 'O', 'O', 'B-per', 'O', 'O', 'O', 'O', 'O', 'O', 'O', 'O', 'O', 'O', 'O'], ['O', 'O', 'O', 'O', 'O', 'O', 'O', 'O', 'O', 'O', 'O', 'B-geo', 'I-geo', 'O']]\n"
          ]
        }
      ]
    },
    {
      "cell_type": "code",
      "source": [
        "from tensorflow.keras.preprocessing.text import Tokenizer\n",
        "from tensorflow.keras.preprocessing.sequence import pad_sequences"
      ],
      "metadata": {
        "id": "ohybpCIk19G1"
      },
      "execution_count": 10,
      "outputs": []
    },
    {
      "cell_type": "code",
      "source": [
        "print(\"Number of examples: {}\".format(len(X)))"
      ],
      "metadata": {
        "colab": {
          "base_uri": "https://localhost:8080/"
        },
        "id": "LycbNvOm2ATt",
        "outputId": "26675125-c27c-434d-d2f8-5be2429b47c9"
      },
      "execution_count": 11,
      "outputs": [
        {
          "output_type": "stream",
          "name": "stdout",
          "text": [
            "Number of examples: 47959\n"
          ]
        }
      ]
    },
    {
      "cell_type": "markdown",
      "source": [
        "##Vectorizar las oraciones\n",
        "\n",
        "Nota: aca cambie el None por que None no es iterable y suelta error"
      ],
      "metadata": {
        "id": "ufpIWXfX2E4P"
      }
    },
    {
      "cell_type": "code",
      "source": [
        "# cutoff reviews after 110 words\n",
        "maxlen = 110\n",
        "\n",
        "# consider the top 36000 words in the dataset\n",
        "max_words = 36000\n",
        "\n",
        "# tokenize each sentence in the dataset\n",
        "tokenizer = Tokenizer(num_words=max_words)\n",
        "tokenizer.fit_on_texts(X)\n",
        "sequences = tokenizer.texts_to_sequences(X)"
      ],
      "metadata": {
        "id": "vJTXYeCN2DNB"
      },
      "execution_count": 12,
      "outputs": []
    },
    {
      "cell_type": "code",
      "source": [
        "word_index = tokenizer.word_index\n",
        "print(\"Found {} unique tokens.\".format(len(word_index)))\n",
        "ind2word = dict([(value, key) for (key, value) in word_index.items()])"
      ],
      "metadata": {
        "colab": {
          "base_uri": "https://localhost:8080/"
        },
        "id": "yR9h32Yt2MZd",
        "outputId": "2a1de167-2b90-407f-86bb-ab10704f4afa"
      },
      "execution_count": 13,
      "outputs": [
        {
          "output_type": "stream",
          "name": "stdout",
          "text": [
            "Found 27953 unique tokens.\n"
          ]
        }
      ]
    },
    {
      "cell_type": "code",
      "source": [
        "word2id = word_index"
      ],
      "metadata": {
        "id": "KctGpjTF2O6M"
      },
      "execution_count": 14,
      "outputs": []
    },
    {
      "cell_type": "code",
      "source": [
        "# dict. that map each identifier to its word\n",
        "id2word = {}\n",
        "for key, value in word2id.items():\n",
        "    id2word[value] = key"
      ],
      "metadata": {
        "id": "HEYcUDBm2R7Q"
      },
      "execution_count": 15,
      "outputs": []
    },
    {
      "cell_type": "markdown",
      "source": [
        "##Sentences padding\n",
        "\n",
        "Nota se reemplazan los none por\n",
        "\n",
        "1. las secencias\n",
        "2. maxima longitud definido arriba (# cutoff reviews after 110 words)\n",
        "3. padding -> 'post' : llena de ceros despues del ultimo numero\n",
        "\n",
        "https://www.tensorflow.org/api_docs/python/tf/keras/utils/pad_sequences"
      ],
      "metadata": {
        "id": "eXcAIIIA2hBu"
      }
    },
    {
      "cell_type": "code",
      "source": [
        "# pad the sequences so that all sequences are of the same size\n",
        "X_preprocessed = pad_sequences(sequences, maxlen=maxlen, padding='post')"
      ],
      "metadata": {
        "id": "agEwYpXB2dFg"
      },
      "execution_count": 16,
      "outputs": []
    },
    {
      "cell_type": "code",
      "source": [
        "# first example after tokenization and padding.\n",
        "X_preprocessed[0]"
      ],
      "metadata": {
        "id": "fHV-UF6EvamZ",
        "colab": {
          "base_uri": "https://localhost:8080/"
        },
        "outputId": "ac09dab3-441c-4e84-9c50-840b86dd74c9"
      },
      "execution_count": 17,
      "outputs": [
        {
          "output_type": "execute_result",
          "data": {
            "text/plain": [
              "array([ 260,    3,  997,   13, 1838,  245,  452,    4,  545,    1,  121,\n",
              "          2,   60,    6,  595,    1,  861,    3,  184,   89,   21,   12,\n",
              "         54,    0,    0,    0,    0,    0,    0,    0,    0,    0,    0,\n",
              "          0,    0,    0,    0,    0,    0,    0,    0,    0,    0,    0,\n",
              "          0,    0,    0,    0,    0,    0,    0,    0,    0,    0,    0,\n",
              "          0,    0,    0,    0,    0,    0,    0,    0,    0,    0,    0,\n",
              "          0,    0,    0,    0,    0,    0,    0,    0,    0,    0,    0,\n",
              "          0,    0,    0,    0,    0,    0,    0,    0,    0,    0,    0,\n",
              "          0,    0,    0,    0,    0,    0,    0,    0,    0,    0,    0,\n",
              "          0,    0,    0,    0,    0,    0,    0,    0,    0,    0,    0],\n",
              "      dtype=int32)"
            ]
          },
          "metadata": {},
          "execution_count": 17
        }
      ]
    },
    {
      "cell_type": "code",
      "source": [
        "#EXPECTED OUTPUT\n",
        "# first example after tokenization and padding.\n",
        "#X_preprocessed[0]"
      ],
      "metadata": {
        "id": "s7RODf-62lLw"
      },
      "execution_count": 18,
      "outputs": []
    },
    {
      "cell_type": "code",
      "source": [
        "X_preprocessed[22479]"
      ],
      "metadata": {
        "colab": {
          "base_uri": "https://localhost:8080/"
        },
        "id": "u1Mg6SKpsb0e",
        "outputId": "eb5fdf1a-fd88-4890-f88f-0df71a12d0e3"
      },
      "execution_count": 19,
      "outputs": [
        {
          "output_type": "execute_result",
          "data": {
            "text/plain": [
              "array([ 9811,     2,   640,   454,  2760,   155,   944, 15986,  5319,\n",
              "        1941,     3,    61,  4900,   155,  4877, 22425,  1941,    17,\n",
              "       13036, 22426, 22427,     6,   699,   325,   428, 22428,  1941,\n",
              "       13142, 13143, 22429, 22430,    47,   381,    25,  2859,   907,\n",
              "       22431,  2166,     4,   155,  1229, 22432,  1941,     2,   754,\n",
              "         629,     3,    61,  4899,   155,   975, 22433,  1941,    17,\n",
              "       13036,     6,   699,   454,   428, 22434,  1941, 13142, 13143,\n",
              "        1033,  1453,    21,     1,   257,  3560,    22,     1,  4417,\n",
              "           3,     1,  5701,     3,  3783,  2111,  1028,  1243, 22435,\n",
              "          61,  6936,  2197,  3486,     1,   135,  1185,   257,     0,\n",
              "           0,     0,     0,     0,     0,     0,     0,     0,     0,\n",
              "           0,     0,     0,     0,     0,     0,     0,     0,     0,\n",
              "           0,     0], dtype=int32)"
            ]
          },
          "metadata": {},
          "execution_count": 19
        }
      ]
    },
    {
      "cell_type": "code",
      "source": [
        "#EXPECTED OUTPUT\n",
        "#22479 example after tokenization and padding.\n",
        "#X_preprocessed[22479]"
      ],
      "metadata": {
        "id": "o7fnlevK2n9p"
      },
      "execution_count": 20,
      "outputs": []
    },
    {
      "cell_type": "markdown",
      "source": [
        "##Proprocesamiento de etiquetas\n",
        "\n",
        "Toco agregar los tags -> no encontre forma de sacarlos, esto cambia los numeros"
      ],
      "metadata": {
        "id": "AI1xSzn13PCT"
      }
    },
    {
      "cell_type": "code",
      "source": [
        "# dict. that map each tag to its identifier\n",
        "tags2id = {}\n",
        "for i, tag in enumerate(tags):\n",
        "    tags2id[tag] = i"
      ],
      "metadata": {
        "id": "BL1S3W2H2qRQ"
      },
      "execution_count": 21,
      "outputs": []
    },
    {
      "cell_type": "code",
      "source": [
        "tags2id"
      ],
      "metadata": {
        "id": "w6P8hU1Avwjx",
        "colab": {
          "base_uri": "https://localhost:8080/"
        },
        "outputId": "8829c5f0-dab5-4219-b97d-651bfc6d965d"
      },
      "execution_count": 22,
      "outputs": [
        {
          "output_type": "execute_result",
          "data": {
            "text/plain": [
              "{'O': 0,\n",
              " 'B-geo': 1,\n",
              " 'B-gpe': 2,\n",
              " 'B-per': 3,\n",
              " 'I-geo': 4,\n",
              " 'B-org': 5,\n",
              " 'I-org': 6,\n",
              " 'B-tim': 7,\n",
              " 'B-art': 8,\n",
              " 'I-art': 9,\n",
              " 'I-per': 10,\n",
              " 'I-gpe': 11,\n",
              " 'I-tim': 12,\n",
              " 'B-nat': 13,\n",
              " 'B-eve': 14,\n",
              " 'I-eve': 15,\n",
              " 'I-nat': 16}"
            ]
          },
          "metadata": {},
          "execution_count": 22
        }
      ]
    },
    {
      "cell_type": "code",
      "source": [
        "# faltaba esto tambien\n",
        "id2tag = {}\n",
        "for key, value in tags2id.items():\n",
        "    id2tag[value] = key"
      ],
      "metadata": {
        "id": "tgDZ_w1W9P4A"
      },
      "execution_count": 23,
      "outputs": []
    },
    {
      "cell_type": "code",
      "source": [
        "id2tag"
      ],
      "metadata": {
        "colab": {
          "base_uri": "https://localhost:8080/"
        },
        "id": "U7cG2_T79QNo",
        "outputId": "ddf8ba76-e346-4b3a-9b64-819219cde4b7"
      },
      "execution_count": 24,
      "outputs": [
        {
          "output_type": "execute_result",
          "data": {
            "text/plain": [
              "{0: 'O',\n",
              " 1: 'B-geo',\n",
              " 2: 'B-gpe',\n",
              " 3: 'B-per',\n",
              " 4: 'I-geo',\n",
              " 5: 'B-org',\n",
              " 6: 'I-org',\n",
              " 7: 'B-tim',\n",
              " 8: 'B-art',\n",
              " 9: 'I-art',\n",
              " 10: 'I-per',\n",
              " 11: 'I-gpe',\n",
              " 12: 'I-tim',\n",
              " 13: 'B-nat',\n",
              " 14: 'B-eve',\n",
              " 15: 'I-eve',\n",
              " 16: 'I-nat'}"
            ]
          },
          "metadata": {},
          "execution_count": 24
        }
      ]
    },
    {
      "cell_type": "code",
      "source": [
        "#EXPECTED OUTPUT\n",
        "#id2tag"
      ],
      "metadata": {
        "id": "cjEK6zqF3ews"
      },
      "execution_count": 25,
      "outputs": []
    },
    {
      "cell_type": "code",
      "source": [
        "def preprocess_tags(tags2id, Y_ready):\n",
        "\n",
        "    Y_preprocessed = []\n",
        "    maxlen = 110\n",
        "    # for each target\n",
        "    for y in Y_ready:\n",
        "\n",
        "        # place holder to store the new preprocessed tag list\n",
        "        Y_place_holder = []\n",
        "\n",
        "        # for each tag in rhe tag list\n",
        "        for tag in y:\n",
        "            # append the id of the tag in the place holder list\n",
        "            Y_place_holder.append(tags2id[tag])\n",
        "\n",
        "        # find the lenght of the new preprocessed tag list\n",
        "        len_new_tag_list = len(Y_place_holder)\n",
        "        # find the differance in length between the len of tag list and padded sentences\n",
        "        num_O_to_add = maxlen - len_new_tag_list\n",
        "\n",
        "        # add 'O's to padd the tag lists\n",
        "        padded_tags = Y_place_holder + ([tags2id['O']] * num_O_to_add)\n",
        "        Y_preprocessed.append(padded_tags)\n",
        "\n",
        "    return Y_preprocessed"
      ],
      "metadata": {
        "id": "LtvHISjO3gyV"
      },
      "execution_count": 26,
      "outputs": []
    },
    {
      "cell_type": "code",
      "source": [
        "Y_preprocessed = preprocess_tags(tags2id, Y_ready)"
      ],
      "metadata": {
        "id": "eN14pp-t3kHJ"
      },
      "execution_count": 27,
      "outputs": []
    },
    {
      "cell_type": "code",
      "source": [
        "print(Y_preprocessed[0])"
      ],
      "metadata": {
        "colab": {
          "base_uri": "https://localhost:8080/"
        },
        "id": "PojbmPK73pjV",
        "outputId": "79afcd22-fecb-4cf6-c663-cd526de224e7"
      },
      "execution_count": 28,
      "outputs": [
        {
          "output_type": "stream",
          "name": "stdout",
          "text": [
            "[0, 0, 0, 0, 0, 0, 1, 0, 0, 0, 0, 0, 1, 0, 0, 0, 0, 0, 2, 0, 0, 0, 0, 0, 0, 0, 0, 0, 0, 0, 0, 0, 0, 0, 0, 0, 0, 0, 0, 0, 0, 0, 0, 0, 0, 0, 0, 0, 0, 0, 0, 0, 0, 0, 0, 0, 0, 0, 0, 0, 0, 0, 0, 0, 0, 0, 0, 0, 0, 0, 0, 0, 0, 0, 0, 0, 0, 0, 0, 0, 0, 0, 0, 0, 0, 0, 0, 0, 0, 0, 0, 0, 0, 0, 0, 0, 0, 0, 0, 0, 0, 0, 0, 0, 0, 0, 0, 0, 0, 0]\n"
          ]
        }
      ]
    },
    {
      "cell_type": "code",
      "source": [
        "print(Y_ready[0])"
      ],
      "metadata": {
        "colab": {
          "base_uri": "https://localhost:8080/"
        },
        "id": "HQkPhloi3rIt",
        "outputId": "440dc6b2-7304-4074-b495-825120a51e97"
      },
      "execution_count": 29,
      "outputs": [
        {
          "output_type": "stream",
          "name": "stdout",
          "text": [
            "['O', 'O', 'O', 'O', 'O', 'O', 'B-geo', 'O', 'O', 'O', 'O', 'O', 'B-geo', 'O', 'O', 'O', 'O', 'O', 'B-gpe', 'O', 'O', 'O', 'O', 'O']\n"
          ]
        }
      ]
    },
    {
      "cell_type": "markdown",
      "source": [
        "##Data shuffling and splitting"
      ],
      "metadata": {
        "id": "NscOB3O843Uo"
      }
    },
    {
      "cell_type": "code",
      "source": [
        "print(\"The Lenght of training examples: {}\".format(len(X_preprocessed)))\n",
        "print(\"The Lenght of training targets: {}\".format(len(Y_preprocessed)))"
      ],
      "metadata": {
        "colab": {
          "base_uri": "https://localhost:8080/"
        },
        "id": "NnI0OXkr3tj9",
        "outputId": "9de49d63-b3d3-4307-ce3d-dfe2347076ac"
      },
      "execution_count": 30,
      "outputs": [
        {
          "output_type": "stream",
          "name": "stdout",
          "text": [
            "The Lenght of training examples: 47959\n",
            "The Lenght of training targets: 47959\n"
          ]
        }
      ]
    },
    {
      "cell_type": "code",
      "source": [
        "X_preprocessed = np.asarray(X_preprocessed)\n",
        "Y_preprocessed = np.asarray(Y_preprocessed)"
      ],
      "metadata": {
        "id": "iieHAASl49i4"
      },
      "execution_count": 31,
      "outputs": []
    },
    {
      "cell_type": "code",
      "source": [
        "# 70% of the datat will be used for training\n",
        "training_samples = 0.7\n",
        "# 15% of the datat will be used for validation\n",
        "validation_samples = 0.15\n",
        "# 15% of the datat will be used for testing\n",
        "testing_samples = 0.15"
      ],
      "metadata": {
        "id": "XprpDq1G4_P0"
      },
      "execution_count": 32,
      "outputs": []
    },
    {
      "cell_type": "code",
      "source": [
        "indices = np.arange(len(Y_preprocessed))"
      ],
      "metadata": {
        "id": "cgxx7dW05A4A"
      },
      "execution_count": 33,
      "outputs": []
    },
    {
      "cell_type": "code",
      "source": [
        "np.random.seed(seed=555)\n",
        "np.random.shuffle(indices)"
      ],
      "metadata": {
        "id": "MCrkNtRX5Cqx"
      },
      "execution_count": 34,
      "outputs": []
    },
    {
      "cell_type": "code",
      "source": [
        "X_preprocessed = X_preprocessed[indices]\n",
        "Y_preprocessed = Y_preprocessed[indices]"
      ],
      "metadata": {
        "id": "rMhP_wcn5EcN"
      },
      "execution_count": 35,
      "outputs": []
    },
    {
      "cell_type": "code",
      "source": [
        "X_train = X_preprocessed[: int(0.7 * len(X_preprocessed))]\n",
        "print(\"Number of training examples: {}\".format(len(X_train)))\n",
        "\n",
        "\n",
        "X_val = X_preprocessed[int(0.7 * len(X_preprocessed)) : int(0.7 * len(X_preprocessed)) + (int(0.15 * len(X_preprocessed)) + 1)]\n",
        "print(\"Number of validation examples: {}\".format(len(X_val)))\n",
        "\n",
        "\n",
        "X_test = X_preprocessed[int(0.7 * len(X_preprocessed)) + (int(0.15 * len(X_preprocessed)) + 1) : ]\n",
        "print(\"Number of testing examples: {}\".format(len(X_test)))\n",
        "\n",
        "\n",
        "\n",
        "Y_train = Y_preprocessed[: int(0.7 * len(X_preprocessed))]\n",
        "Y_val = Y_preprocessed[int(0.7 * len(X_preprocessed)) : int(0.7 * len(X_preprocessed)) + (int(0.15 * len(X_preprocessed)) + 1)]\n",
        "Y_test = Y_preprocessed[int(0.7 * len(X_preprocessed)) + (int(0.15 * len(X_preprocessed)) + 1) : ]\n",
        "\n",
        "print(\"Total number of examples after shuffling and splitting: {}\".format(len(X_train) + len(X_val) + len(X_test)))"
      ],
      "metadata": {
        "colab": {
          "base_uri": "https://localhost:8080/"
        },
        "id": "lM-tUuUO5GXi",
        "outputId": "60b31af0-e8b4-4012-81f2-3f477e3255b3"
      },
      "execution_count": 36,
      "outputs": [
        {
          "output_type": "stream",
          "name": "stdout",
          "text": [
            "Number of training examples: 33571\n",
            "Number of validation examples: 7194\n",
            "Number of testing examples: 7194\n",
            "Total number of examples after shuffling and splitting: 47959\n"
          ]
        }
      ]
    },
    {
      "cell_type": "markdown",
      "source": [
        "#Entrenamiento y evaluación"
      ],
      "metadata": {
        "id": "2L_dA_WU5M-t"
      }
    },
    {
      "cell_type": "code",
      "source": [
        "X_train[1000]"
      ],
      "metadata": {
        "colab": {
          "base_uri": "https://localhost:8080/"
        },
        "id": "FVD2FFys5JCJ",
        "outputId": "4c9dd342-0a88-48be-ebf6-5295235adf95"
      },
      "execution_count": 37,
      "outputs": [
        {
          "output_type": "execute_result",
          "data": {
            "text/plain": [
              "array([ 374,   19,    1,  254,   28, 1072,    6,   11, 1201,   59,  412,\n",
              "          0,    0,    0,    0,    0,    0,    0,    0,    0,    0,    0,\n",
              "          0,    0,    0,    0,    0,    0,    0,    0,    0,    0,    0,\n",
              "          0,    0,    0,    0,    0,    0,    0,    0,    0,    0,    0,\n",
              "          0,    0,    0,    0,    0,    0,    0,    0,    0,    0,    0,\n",
              "          0,    0,    0,    0,    0,    0,    0,    0,    0,    0,    0,\n",
              "          0,    0,    0,    0,    0,    0,    0,    0,    0,    0,    0,\n",
              "          0,    0,    0,    0,    0,    0,    0,    0,    0,    0,    0,\n",
              "          0,    0,    0,    0,    0,    0,    0,    0,    0,    0,    0,\n",
              "          0,    0,    0,    0,    0,    0,    0,    0,    0,    0,    0],\n",
              "      dtype=int32)"
            ]
          },
          "metadata": {},
          "execution_count": 37
        }
      ]
    },
    {
      "cell_type": "code",
      "source": [
        "Y_train[1000]"
      ],
      "metadata": {
        "colab": {
          "base_uri": "https://localhost:8080/"
        },
        "id": "mOnUSjc-5Tot",
        "outputId": "3823b1d5-638f-42ea-c215-27d424461424"
      },
      "execution_count": 38,
      "outputs": [
        {
          "output_type": "execute_result",
          "data": {
            "text/plain": [
              "array([5, 0, 0, 0, 0, 0, 0, 0, 0, 0, 0, 0, 0, 0, 0, 0, 0, 0, 0, 0, 0, 0,\n",
              "       0, 0, 0, 0, 0, 0, 0, 0, 0, 0, 0, 0, 0, 0, 0, 0, 0, 0, 0, 0, 0, 0,\n",
              "       0, 0, 0, 0, 0, 0, 0, 0, 0, 0, 0, 0, 0, 0, 0, 0, 0, 0, 0, 0, 0, 0,\n",
              "       0, 0, 0, 0, 0, 0, 0, 0, 0, 0, 0, 0, 0, 0, 0, 0, 0, 0, 0, 0, 0, 0,\n",
              "       0, 0, 0, 0, 0, 0, 0, 0, 0, 0, 0, 0, 0, 0, 0, 0, 0, 0, 0, 0, 0, 0])"
            ]
          },
          "metadata": {},
          "execution_count": 38
        }
      ]
    },
    {
      "cell_type": "code",
      "source": [
        "id2word[729]"
      ],
      "metadata": {
        "colab": {
          "base_uri": "https://localhost:8080/",
          "height": 36
        },
        "id": "JOI7gWuz5VB5",
        "outputId": "37abda4b-f6e1-414a-90db-8593d214eee3"
      },
      "execution_count": 39,
      "outputs": [
        {
          "output_type": "execute_result",
          "data": {
            "text/plain": [
              "'nigeria'"
            ],
            "application/vnd.google.colaboratory.intrinsic+json": {
              "type": "string"
            }
          },
          "metadata": {},
          "execution_count": 39
        }
      ]
    },
    {
      "cell_type": "markdown",
      "source": [
        "##Cargar el modelo como un dataset en tensorflow"
      ],
      "metadata": {
        "id": "VSeLAO1x5Y7r"
      }
    },
    {
      "cell_type": "code",
      "source": [
        "train_dataset = tf.data.Dataset.from_tensor_slices((X_train, Y_train))\n",
        "val_dataset = tf.data.Dataset.from_tensor_slices((X_val, Y_val))\n",
        "test_dataset = tf.data.Dataset.from_tensor_slices((X_test, Y_test))"
      ],
      "metadata": {
        "id": "zu404mk25XKx"
      },
      "execution_count": 40,
      "outputs": []
    },
    {
      "cell_type": "code",
      "source": [
        "BATCH_SIZE = 132\n",
        "SHUFFLE_BUFFER_SIZE = 132\n",
        "\n",
        "train_dataset = train_dataset.shuffle(SHUFFLE_BUFFER_SIZE).batch(BATCH_SIZE)\n",
        "val_dataset = val_dataset.batch(BATCH_SIZE)\n",
        "test_dataset = test_dataset.batch(BATCH_SIZE)"
      ],
      "metadata": {
        "id": "1II9kXRV5fcW"
      },
      "execution_count": 41,
      "outputs": []
    },
    {
      "cell_type": "markdown",
      "source": [
        "##Model_1\n",
        "2 redes bidireccionales\n",
        "1 red de dense o feedFordward"
      ],
      "metadata": {
        "id": "_16AOAdV_dfk"
      }
    },
    {
      "cell_type": "markdown",
      "source": [
        "Hyperparameters:\n"
      ],
      "metadata": {
        "id": "VP-aTkr0cUED"
      }
    },
    {
      "cell_type": "code",
      "source": [
        "embedding_dim = 300\n",
        "maxlen = 110\n",
        "max_words = 36000\n",
        "num_tags = len(tags)\n",
        "\n",
        "model = tf.keras.models.Sequential([\n",
        "    tf.keras.layers.Embedding(max_words, embedding_dim, input_length=maxlen, name='embedding_1'),\n",
        "    tf.keras.layers.Bidirectional(tf.keras.layers.LSTM(units=100, activation='tanh', return_sequences=True), name='bidirectional_2'),\n",
        "    tf.keras.layers.Bidirectional(tf.keras.layers.LSTM(units=100, activation='tanh', return_sequences=True), name='bidirectional_3'),\n",
        "    tf.keras.layers.Dense(num_tags, activation = \"softmax\", name='dense_1')\n",
        "])"
      ],
      "metadata": {
        "id": "U6-SPh5A5iJi"
      },
      "execution_count": 60,
      "outputs": []
    },
    {
      "cell_type": "code",
      "source": [
        "model.summary()"
      ],
      "metadata": {
        "id": "thzqEJKDb9kY",
        "colab": {
          "base_uri": "https://localhost:8080/"
        },
        "outputId": "e3a8a431-18bc-43cd-e30b-a780383518be"
      },
      "execution_count": 61,
      "outputs": [
        {
          "output_type": "stream",
          "name": "stdout",
          "text": [
            "Model: \"sequential_2\"\n",
            "_________________________________________________________________\n",
            " Layer (type)                Output Shape              Param #   \n",
            "=================================================================\n",
            " embedding_1 (Embedding)     (None, 110, 300)          10800000  \n",
            "                                                                 \n",
            " bidirectional_2 (Bidirectio  (None, 110, 200)         320800    \n",
            " nal)                                                            \n",
            "                                                                 \n",
            " bidirectional_3 (Bidirectio  (None, 110, 200)         240800    \n",
            " nal)                                                            \n",
            "                                                                 \n",
            " dense_1 (Dense)             (None, 110, 17)           3417      \n",
            "                                                                 \n",
            "=================================================================\n",
            "Total params: 11,365,017\n",
            "Trainable params: 11,365,017\n",
            "Non-trainable params: 0\n",
            "_________________________________________________________________\n"
          ]
        }
      ]
    },
    {
      "cell_type": "code",
      "source": [
        "#EXPECTED OUTPUT\n",
        "#model.summary()"
      ],
      "metadata": {
        "id": "Cd1uWlmr5k1q"
      },
      "execution_count": 44,
      "outputs": []
    },
    {
      "cell_type": "code",
      "source": [
        "model.compile(loss='sparse_categorical_crossentropy', optimizer='adam', metrics=['accuracy'])"
      ],
      "metadata": {
        "id": "v80zjoKR5m2m"
      },
      "execution_count": 45,
      "outputs": []
    },
    {
      "cell_type": "code",
      "source": [
        "history = model.fit(train_dataset,\n",
        "                    validation_data=val_dataset,\n",
        "                    epochs=3)"
      ],
      "metadata": {
        "colab": {
          "base_uri": "https://localhost:8080/"
        },
        "id": "H70-N7Bn5rmq",
        "outputId": "922bdd8a-56e8-43ad-fdb3-dfd0f2313b1d"
      },
      "execution_count": 46,
      "outputs": [
        {
          "output_type": "stream",
          "name": "stdout",
          "text": [
            "Epoch 1/3\n",
            "255/255 [==============================] - 55s 168ms/step - loss: 0.1775 - accuracy: 0.9693 - val_loss: 0.1111 - val_accuracy: 0.9708\n",
            "Epoch 2/3\n",
            "255/255 [==============================] - 18s 72ms/step - loss: 0.0942 - accuracy: 0.9734 - val_loss: 0.0788 - val_accuracy: 0.9765\n",
            "Epoch 3/3\n",
            "255/255 [==============================] - 16s 63ms/step - loss: 0.0666 - accuracy: 0.9787 - val_loss: 0.0688 - val_accuracy: 0.9791\n"
          ]
        }
      ]
    },
    {
      "cell_type": "code",
      "source": [
        "model.evaluate(test_dataset)"
      ],
      "metadata": {
        "colab": {
          "base_uri": "https://localhost:8080/"
        },
        "id": "NCvHU0rI5uDB",
        "outputId": "50ec48bc-6da4-48a6-fbbe-1adee6a98c85"
      },
      "execution_count": 47,
      "outputs": [
        {
          "output_type": "stream",
          "name": "stdout",
          "text": [
            "55/55 [==============================] - 1s 18ms/step - loss: 0.0675 - accuracy: 0.9794\n"
          ]
        },
        {
          "output_type": "execute_result",
          "data": {
            "text/plain": [
              "[0.06748704612255096, 0.9793514609336853]"
            ]
          },
          "metadata": {},
          "execution_count": 47
        }
      ]
    },
    {
      "cell_type": "markdown",
      "source": [
        "##Model_2"
      ],
      "metadata": {
        "id": "YPhEfa6e_sF1"
      }
    },
    {
      "cell_type": "code",
      "source": [
        "embedding_dim = 300\n",
        "maxlen = 110\n",
        "max_words = 36000\n",
        "num_tags = len(tags)\n",
        "\n",
        "model_2 = tf.keras.models.Sequential([\n",
        "    tf.keras.layers.Embedding(max_words, embedding_dim, input_length=maxlen, name='embedding'),\n",
        "    tf.keras.layers.LSTM(units=100, activation='tanh', return_sequences=True, name='lstm'),\n",
        "    tf.keras.layers.Dense(num_tags, activation = \"softmax\", name='dense')\n",
        "])"
      ],
      "metadata": {
        "id": "2bhNIOvp_rrG"
      },
      "execution_count": 48,
      "outputs": []
    },
    {
      "cell_type": "code",
      "source": [
        "model_2.summary()"
      ],
      "metadata": {
        "id": "yS8Cxpo-eSEZ",
        "colab": {
          "base_uri": "https://localhost:8080/"
        },
        "outputId": "2c9465ab-deb4-4d1d-e40c-da5b8542f8de"
      },
      "execution_count": 49,
      "outputs": [
        {
          "output_type": "stream",
          "name": "stdout",
          "text": [
            "Model: \"sequential_1\"\n",
            "_________________________________________________________________\n",
            " Layer (type)                Output Shape              Param #   \n",
            "=================================================================\n",
            " embedding (Embedding)       (None, 110, 300)          10800000  \n",
            "                                                                 \n",
            " lstm (LSTM)                 (None, 110, 100)          160400    \n",
            "                                                                 \n",
            " dense (Dense)               (None, 110, 17)           1717      \n",
            "                                                                 \n",
            "=================================================================\n",
            "Total params: 10,962,117\n",
            "Trainable params: 10,962,117\n",
            "Non-trainable params: 0\n",
            "_________________________________________________________________\n"
          ]
        }
      ]
    },
    {
      "cell_type": "code",
      "source": [
        "#EXPECTED OUTPUT\n",
        "#model_2.summary()"
      ],
      "metadata": {
        "id": "LBXIRhX8A2Rm"
      },
      "execution_count": 50,
      "outputs": []
    },
    {
      "cell_type": "code",
      "source": [
        "model_2.compile(loss='sparse_categorical_crossentropy', optimizer='adam', metrics=['accuracy'])"
      ],
      "metadata": {
        "id": "aQxy2R-F_50j"
      },
      "execution_count": 51,
      "outputs": []
    },
    {
      "cell_type": "code",
      "source": [
        "history_2 = model_2.fit(train_dataset,\n",
        "                        validation_data=val_dataset,\n",
        "                        epochs=2)"
      ],
      "metadata": {
        "colab": {
          "base_uri": "https://localhost:8080/"
        },
        "id": "0KTqVZag__Ez",
        "outputId": "045ae0ba-5c3b-4d13-8f37-7f302fe23ecb"
      },
      "execution_count": 52,
      "outputs": [
        {
          "output_type": "stream",
          "name": "stdout",
          "text": [
            "Epoch 1/2\n",
            "255/255 [==============================] - 29s 103ms/step - loss: 0.2513 - accuracy: 0.9654 - val_loss: 0.1238 - val_accuracy: 0.9696\n",
            "Epoch 2/2\n",
            "255/255 [==============================] - 17s 68ms/step - loss: 0.1103 - accuracy: 0.9715 - val_loss: 0.0985 - val_accuracy: 0.9736\n"
          ]
        }
      ]
    },
    {
      "cell_type": "markdown",
      "source": [
        "##Desempeño modelo 2"
      ],
      "metadata": {
        "id": "zupqk33NCfpL"
      }
    },
    {
      "cell_type": "code",
      "source": [
        "acc = history_2.history['accuracy']\n",
        "val_acc = history_2.history['val_accuracy']\n",
        "\n",
        "loss = history_2.history['loss']\n",
        "val_loss = history_2.history['val_loss']\n",
        "\n",
        "epochs = range(1, len(acc) + 1)\n",
        "\n",
        "fig, ax = plt.subplots(1, 2, constrained_layout=True, figsize=(6, 4), dpi=80)\n",
        "\n",
        "ax[0].plot(epochs, acc, label = \"Training Accuracy\", color='darkblue')\n",
        "ax[0].plot(epochs, val_acc, label = \"Validation Accuracy\", color='darkgreen')\n",
        "ax[0].grid(alpha=0.3)\n",
        "ax[0].title.set_text('Training Vs Validation Accuracy')\n",
        "ax[0].fill_between(epochs, acc, val_acc, color='crimson', alpha=0.3)\n",
        "plt.setp(ax[0], xlabel='Epochs')\n",
        "plt.setp(ax[0], ylabel='Accuracy')\n",
        "\n",
        "\n",
        "ax[1].plot(epochs, loss, label = \"Training Loss\", color='darkblue')\n",
        "ax[1].plot(epochs, val_loss, label = \"Validation Loss\", color='darkgreen')\n",
        "ax[1].grid(alpha=0.3)\n",
        "ax[1].title.set_text('Training Vs Validation Loss')\n",
        "ax[1].fill_between(epochs,loss, val_loss, color='crimson', alpha=0.3)\n",
        "plt.setp(ax[1], xlabel='Epochs')\n",
        "plt.setp(ax[1], ylabel='Loss')\n",
        "\n",
        "plt.show()"
      ],
      "metadata": {
        "colab": {
          "base_uri": "https://localhost:8080/",
          "height": 346
        },
        "id": "Efy1CTUfAyH9",
        "outputId": "534af938-b775-4eff-d89f-043294f6bab6"
      },
      "execution_count": 53,
      "outputs": [
        {
          "output_type": "display_data",
          "data": {
            "text/plain": [
              "<Figure size 480x320 with 2 Axes>"
            ],
            "image/png": "[encoded data removed]"
          },
          "metadata": {}
        }
      ]
    },
    {
      "cell_type": "markdown",
      "source": [
        "##Desempeño modelo 1"
      ],
      "metadata": {
        "id": "-tb2ZECDCmLt"
      }
    },
    {
      "cell_type": "code",
      "source": [
        "acc = history.history['accuracy']\n",
        "val_acc = history.history['val_accuracy']\n",
        "\n",
        "loss = history.history['loss']\n",
        "val_loss = history.history['val_loss']\n",
        "\n",
        "epochs = range(1, len(acc) + 1)\n",
        "\n",
        "fig, ax = plt.subplots(1, 2, constrained_layout=True, figsize=(6, 4), dpi=80)\n",
        "\n",
        "ax[0].plot(epochs, acc, label = \"Training Accuracy\", color='darkblue')\n",
        "ax[0].plot(epochs, val_acc, label = \"Validation Accuracy\", color='darkgreen')\n",
        "ax[0].grid(alpha=0.3)\n",
        "ax[0].title.set_text('Training Vs Validation Accuracy')\n",
        "ax[0].fill_between(epochs, acc, val_acc, color='crimson', alpha=0.3)\n",
        "plt.setp(ax[0], xlabel='Epochs')\n",
        "plt.setp(ax[0], ylabel='Accuracy')\n",
        "\n",
        "\n",
        "ax[1].plot(epochs, loss, label = \"Training Loss\", color='darkblue')\n",
        "ax[1].plot(epochs, val_loss, label = \"Validation Loss\", color='darkgreen')\n",
        "ax[1].grid(alpha=0.3)\n",
        "ax[1].title.set_text('Training Vs Validation Loss')\n",
        "ax[1].fill_between(epochs,loss, val_loss, color='crimson', alpha=0.3)\n",
        "plt.setp(ax[1], xlabel='Epochs')\n",
        "plt.setp(ax[1], ylabel='Loss')\n",
        "\n",
        "plt.show()"
      ],
      "metadata": {
        "colab": {
          "base_uri": "https://localhost:8080/",
          "height": 346
        },
        "id": "U6XYBLKcCkER",
        "outputId": "818131fe-45d1-4cf9-e4bb-aceeed9ba22b"
      },
      "execution_count": 54,
      "outputs": [
        {
          "output_type": "display_data",
          "data": {
            "text/plain": [
              "<Figure size 480x320 with 2 Axes>"
            ],
            "image/png": "[encoded data removed]"
          },
          "metadata": {}
        }
      ]
    },
    {
      "cell_type": "markdown",
      "source": [
        "#Predicciones"
      ],
      "metadata": {
        "id": "qIHBFCJJGRDu"
      }
    },
    {
      "cell_type": "code",
      "source": [
        "def make_prediction(model, preprocessed_sentence, id2word, id2tag):\n",
        "\n",
        "    #if preprocessed_sentence.shape() != (1, 110):\n",
        "    preprocessed_sentence = preprocessed_sentence.reshape((1, 110))\n",
        "\n",
        "    # return preprocessed sentence to its orginal form\n",
        "    sentence = preprocessed_sentence[preprocessed_sentence > 0]\n",
        "    word_list = []\n",
        "    for word in list(sentence):\n",
        "        word_list.append(id2word[word])\n",
        "    orginal_sententce = ' '.join(word_list)\n",
        "\n",
        "    len_orginal_sententce = len(word_list)\n",
        "\n",
        "    # make prediction\n",
        "    prediction = model.predict(preprocessed_sentence)\n",
        "    prediction = np.argmax(prediction[0], axis=1)\n",
        "\n",
        "    # return the prediction to its orginal form\n",
        "    prediction = list(prediction)[ : len_orginal_sententce]\n",
        "\n",
        "    pred_tag_list = []\n",
        "    for tag_id in prediction:\n",
        "        pred_tag_list.append(id2tag[tag_id])\n",
        "\n",
        "    return orginal_sententce,  pred_tag_list"
      ],
      "metadata": {
        "id": "T6vUZeQ1C426"
      },
      "execution_count": 55,
      "outputs": []
    },
    {
      "cell_type": "code",
      "source": [
        "id2tag = {}\n",
        "for key, value in tags2id.items():\n",
        "    id2tag[value] = key"
      ],
      "metadata": {
        "id": "cUXZt3ZryQKt"
      },
      "execution_count": 56,
      "outputs": []
    },
    {
      "cell_type": "code",
      "source": [
        "orginal_sententce,  pred_tag_list = make_prediction(model=model,\n",
        "                                                    preprocessed_sentence=X_test[520],\n",
        "                                                    id2word=id2word,\n",
        "                                                    id2tag=id2tag)"
      ],
      "metadata": {
        "colab": {
          "base_uri": "https://localhost:8080/"
        },
        "id": "4pZtITNJGgeM",
        "outputId": "655fe4c4-7198-475e-fef9-c370463a0811"
      },
      "execution_count": 57,
      "outputs": [
        {
          "output_type": "stream",
          "name": "stdout",
          "text": [
            "1/1 [==============================] - 2s 2s/step\n"
          ]
        }
      ]
    },
    {
      "cell_type": "code",
      "source": [
        "print(orginal_sententce)"
      ],
      "metadata": {
        "colab": {
          "base_uri": "https://localhost:8080/"
        },
        "id": "b_b7XfEiGiqz",
        "outputId": "b9e6d7fd-ca2e-40e3-a8d9-141273755246"
      },
      "execution_count": 58,
      "outputs": [
        {
          "output_type": "stream",
          "name": "stdout",
          "text": [
            "tuesday the manhattan new york city prosecutor unsealed a multi count indictment against china based limmt economic and trade company and li fang wei one of the firm 's managers\n"
          ]
        }
      ]
    },
    {
      "cell_type": "code",
      "source": [
        "print(pred_tag_list)"
      ],
      "metadata": {
        "colab": {
          "base_uri": "https://localhost:8080/"
        },
        "id": "JF90h9r_Gkmc",
        "outputId": "89251d4c-002a-44a8-dea1-1dc38f0ae91e"
      },
      "execution_count": 59,
      "outputs": [
        {
          "output_type": "stream",
          "name": "stdout",
          "text": [
            "['B-tim', 'O', 'B-geo', 'I-geo', 'I-geo', 'I-geo', 'O', 'O', 'O', 'O', 'O', 'O', 'O', 'O', 'O', 'O', 'O', 'O', 'O', 'O', 'O', 'O', 'O', 'O', 'O', 'O', 'O', 'O', 'O', 'O']\n"
          ]
        }
      ]
    }
  ]
}