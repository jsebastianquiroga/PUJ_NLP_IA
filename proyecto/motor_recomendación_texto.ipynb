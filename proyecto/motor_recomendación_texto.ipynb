{
  "nbformat": 4,
  "nbformat_minor": 0,
  "metadata": {
    "colab": {
      "provenance": [],
      "collapsed_sections": [
        "m4cmOojch_to",
        "gKiIShYiXv1C",
        "ydlq9_vRaUdQ",
        "yfxtbQ_2ZrWL"
      ],
      "include_colab_link": true
    },
    "kernelspec": {
      "name": "python3",
      "display_name": "Python 3"
    },
    "language_info": {
      "name": "python"
    }
  },
  "cells": [
    {
      "cell_type": "markdown",
      "metadata": {
        "id": "view-in-github",
        "colab_type": "text"
      },
      "source": [
        "<a href=\"https://colab.research.google.com/github/jsebastianquiroga/PUJ_NLP_IA/blob/main/proyecto/motor_recomendaci%C3%B3n_texto.ipynb\" target=\"_parent\"><img src=\"https://colab.research.google.com/assets/colab-badge.svg\" alt=\"Open In Colab\"/></a>"
      ]
    },
    {
      "cell_type": "markdown",
      "source": [
        "# <img style=\"float: center; padding-right: 10px;\" src=\"https://www.pikpng.com/pngl/b/467-4670553_universidad-javeriana-esslingen-am-neckar-clipart.png\" width=\"100\" height=\"150\">\n",
        "\n",
        "\n",
        "\n",
        "<h1> <strong>Procesamiento de Lenguaje Natural.</strong></h1>\n",
        "<h2> Para: Ing. Juan Pablo Pajaro Hernandez, M.Sc.</br></h2>\n",
        "<h2>Integrantes:</br></h2>\n",
        "<h2>Oscar Eduardo Correcha Guzman.</br></h2>\n",
        "<h2>Jhon Alberto Aguirre Ardila.</br></h2>\n",
        "<h2>Juan Sebastián Quiroga Bernal. </h2>"
      ],
      "metadata": {
        "id": "nzIeTlLbgD6s"
      }
    },
    {
      "cell_type": "markdown",
      "source": [
        "**Este colab puede ser ejecutado por cualquier usuario sin necesidad de cargar los archivos al entorno, debido a que la conexión está configurada para acceder a los archivos desde la nube**.\n"
      ],
      "metadata": {
        "id": "C9K1WTgR-UoC"
      }
    },
    {
      "cell_type": "markdown",
      "source": [
        "<h1> <strong>Taller 1: Twitter User Gender Classification.</strong></h1>\n",
        "\n",
        "En el presente Notebook, se exploraran los datos del data set de Kaggel: Twitter User Gender Classification. https://www.kaggle.com/crowdflower/twitter-user-gender-classification/\n",
        "\n",
        "Este conjunto de datos, fue utilziado para entranar un modelo de clasificación de genero conocido como \"CrowdFlower AI\".\n",
        "\n",
        "Cuyo proposito era inferir mendiante el perfil de un usuario de Twitter si el usuario era un hombre, mujer o compañia.\n",
        "\n",
        "Se tienen un total de 20.000 observaciones, conformadas con un nombre de usuario, tuit aleatorio, perfil, la imagen de la cuenta, la ubicación.\n",
        "\n",
        "<ol>\n",
        "_unit_id: un id único para el usuario</ol>\n",
        "<ol>_golden: si el usuario se incluyó en el patrón oro del modelo; TRUE o FALSE</ol>\n",
        "<ol>_unit_state: estado de la observación; uno de finalized (para contributor-judged) o golden (para gold standard observations)</ol>\n",
        "<ol>_trusted_judgments: número de juicios de confianza (int); siempre 3 para las observaciones no gold, y lo que puede ser un identificador único para las observaciones gold standard</ol>\n",
        "<ol>_last_judgment_at: fecha y hora de la última resolución del contribuyente; en blanco para las observaciones gold standard</ol>\n",
        "<ol>gender: uno de masculino, femenino o marca (para perfiles no humanos)</ol>\n",
        "<ol>gender:confidence: valor flotante que representa la confianza en el sexo indicado</ol>\n",
        "<ol>profile_yn: \"no\" aquí parece significar que el perfil debía formar parte del conjunto de datos pero no estaba disponible cuando los colaboradores fueron a juzgarlo</ol>\n",
        "<ol>profile_yn:confidence: confianza en la existencia/no existencia del perfil</ol>\n",
        "<ol>created: fecha y hora de creación del perfil</ol>\n",
        "<ol>description: descripción del perfil del usuario</ol>\n",
        "<ol>fav_number: número de tweets que el usuario ha marcado como favoritos</ol>\n",
        "<ol>gender_gold: si el perfil es dorado, ¿cuál es el género?</ol>\n",
        "<ol>link_color: el color del enlace en el perfil, como valor hexadecimal</ol>\n",
        "<ol>name: nombre del usuario</ol>\n",
        "<ol>profile_yn_gold: si el valor s/n del perfil es dorado</ol>\n",
        "<ol>profileimage: un enlace a la imagen del perfil</ol>\n",
        "<ol>retweet_count: número de veces que el usuario ha retuiteado (o posiblemente, ha sido retuiteado)</ol>\n",
        "<ol>sidebar_color: color de la barra lateral del perfil, como valor hexadecimal</ol>\n",
        "<ol>text: texto de un tweet aleatorio del usuario</ol>\n",
        "<ol>tweet_coord: si el usuario tiene activada la localización, las coordenadas</ol>\n",
        "<ol>como una cadena con el formato \"[latitud, longitud]\"</ol>\n",
        "<ol>tweet_count: número de tweets que ha publicado el usuario</ol>\n",
        "<ol>tweet_created: cuando se creó el tweet aleatorio (en la columna de texto)</ol>\n",
        "<ol>tweet_id: el id del tweet aleatorio</ol>\n",
        "<ol>tweet_location: ubicación del tweet; parece no estar especialmente normalizada</ol>\n",
        "<ol>user_timezone: la zona horaria del usuario</ol>\n",
        "\n",
        "El presente notebook, estará dividido en divido en las siguientes partes:\n",
        "<ol>\n",
        "<li> TBD:. </li>\n",
        "<li> TBD. </li>\n",
        "<li> TBD.</li>\n",
        "</ol>\n",
        "\n",
        "***"
      ],
      "metadata": {
        "id": "msRcJntlh-dN"
      }
    },
    {
      "cell_type": "markdown",
      "source": [
        "## <h1><strong> 1. Cargar el data set: </h1></strong>\n",
        "\n",
        "El dataset del link en referencia, fue descargado previamente y subido a google drive, para poder cargar el presente notebook sin problemas al momento de cargar la información. </br>"
      ],
      "metadata": {
        "id": "dpoUbOeVIX9B"
      }
    },
    {
      "cell_type": "code",
      "source": [
        "books.columns"
      ],
      "metadata": {
        "id": "tXf2x3aP6Wkq",
        "outputId": "072f726f-b9ce-4a4b-8ca3-d5d57fb9d1c0",
        "colab": {
          "base_uri": "https://localhost:8080/"
        }
      },
      "execution_count": null,
      "outputs": [
        {
          "output_type": "execute_result",
          "data": {
            "text/plain": [
              "Index(['book_id', 'goodreads_book_id', 'authors', 'original_publication_year',\n",
              "       'isbn', 'original_title', 'title', 'language_code', 'average_rating',\n",
              "       'summary'],\n",
              "      dtype='object')"
            ]
          },
          "metadata": {},
          "execution_count": 29
        }
      ]
    },
    {
      "cell_type": "code",
      "source": [
        "# Clonar el repositorio de GitHub\n",
        "!git clone https://github.com/zygmuntz/goodbooks-10k.git\n",
        "\n",
        "# Importar las bibliotecas necesarias\n",
        "import pandas as pd\n",
        "import requests\n",
        "from concurrent.futures import ThreadPoolExecutor\n",
        "\n",
        "# Cargar las bases de datos\n",
        "books = pd.read_csv('goodbooks-10k/books.csv')\n",
        "books = books[['book_id', 'goodreads_book_id', 'authors', 'original_publication_year','isbn',\n",
        "       'original_title', 'title', 'language_code', 'average_rating']]\n",
        "tags = pd.read_csv('goodbooks-10k/tags.csv')\n",
        "book_tags = pd.read_csv('goodbooks-10k/book_tags.csv')\n",
        "\n",
        "# Definir la función para obtener el resumen del libro usando la API de Google Books\n",
        "def get_google_book_summaries(isbn_list):\n",
        "    # Construir la consulta con múltiples ISBNs\n",
        "    query = \"|\".join([f\"isbn:{isbn}\" for isbn in isbn_list])\n",
        "    url = f\"https://www.googleapis.com/books/v1/volumes?q={query}\"\n",
        "\n",
        "    # Hacer la solicitud a la API\n",
        "    response = requests.get(url)\n",
        "    data = response.json()\n",
        "\n",
        "    # Extraer los resúmenes de los libros si están disponibles\n",
        "    summaries = {}\n",
        "    if 'items' in data:\n",
        "        for item in data['items']:\n",
        "            isbn = item['volumeInfo']['industryIdentifiers'][0]['identifier']\n",
        "            summary = item['volumeInfo'].get('description', None)\n",
        "            summaries[isbn] = summary\n",
        "    return summaries\n",
        "\n",
        "# Dividir los ISBNs en lotes de 10 (o cualquier otro número que prefieras)\n",
        "isbn_batches = [books['isbn'][i:i+10].tolist() for i in range(0, len(books), 10)]\n",
        "\n",
        "# Paralelizar las solicitudes en lotes\n",
        "with ThreadPoolExecutor(max_workers=5) as executor:\n",
        "    summaries_list = list(executor.map(get_google_book_summaries, isbn_batches))\n",
        "\n",
        "# Consolidar los resúmenes en un solo diccionario\n",
        "all_summaries = {}\n",
        "for summaries in summaries_list:\n",
        "    all_summaries.update(summaries)\n",
        "\n",
        "# Asignar los resúmenes al DataFrame\n",
        "books['summary'] = books['isbn'].map(all_summaries)\n",
        "\n",
        "# 1. Unir 'books' con 'book_tags' usando 'goodreads_book_id'\n",
        "books_with_tags = pd.merge(books, book_tags, on='goodreads_book_id', how='left')\n",
        "\n",
        "# 2. Unir el resultado con 'tags' usando 'tag_id'\n",
        "books_with_tags_desc = pd.merge(books_with_tags, tags, on='tag_id', how='left')\n",
        "\n",
        "# Explorar el DataFrame resultante\n",
        "print(books_with_tags_desc.head())"
      ],
      "metadata": {
        "id": "r20YFGY-x0L3",
        "outputId": "d73ae588-d546-4ffe-a9d1-3b0711e42c2e",
        "colab": {
          "base_uri": "https://localhost:8080/"
        }
      },
      "execution_count": null,
      "outputs": [
        {
          "output_type": "stream",
          "name": "stdout",
          "text": [
            "fatal: destination path 'goodbooks-10k' already exists and is not an empty directory.\n",
            "   book_id  goodreads_book_id          authors  original_publication_year  \\\n",
            "0        1            2767052  Suzanne Collins                     2008.0   \n",
            "1        1            2767052  Suzanne Collins                     2008.0   \n",
            "2        1            2767052  Suzanne Collins                     2008.0   \n",
            "3        1            2767052  Suzanne Collins                     2008.0   \n",
            "4        1            2767052  Suzanne Collins                     2008.0   \n",
            "\n",
            "        isbn    original_title                                    title  \\\n",
            "0  439023483  The Hunger Games  The Hunger Games (The Hunger Games, #1)   \n",
            "1  439023483  The Hunger Games  The Hunger Games (The Hunger Games, #1)   \n",
            "2  439023483  The Hunger Games  The Hunger Games (The Hunger Games, #1)   \n",
            "3  439023483  The Hunger Games  The Hunger Games (The Hunger Games, #1)   \n",
            "4  439023483  The Hunger Games  The Hunger Games (The Hunger Games, #1)   \n",
            "\n",
            "  language_code  average_rating summary  tag_id  count           tag_name  \n",
            "0           eng            4.34    None   11557  50755          favorites  \n",
            "1           eng            4.34    None    8717  35418  currently-reading  \n",
            "2           eng            4.34    None   33114  25968        young-adult  \n",
            "3           eng            4.34    None   11743  13819            fiction  \n",
            "4           eng            4.34    None   10064  12985          dystopian  \n"
          ]
        }
      ]
    },
    {
      "cell_type": "markdown",
      "source": [],
      "metadata": {
        "id": "6HSEN5oD8gu8"
      }
    },
    {
      "cell_type": "code",
      "source": [
        "books_with_tags_desc.summary.nunique()"
      ],
      "metadata": {
        "id": "r65kGLrFM0oH",
        "outputId": "ff7b50e4-a4f1-4a59-a259-587cdd464185",
        "colab": {
          "base_uri": "https://localhost:8080/"
        }
      },
      "execution_count": null,
      "outputs": [
        {
          "output_type": "execute_result",
          "data": {
            "text/plain": [
              "0"
            ]
          },
          "metadata": {},
          "execution_count": 33
        }
      ]
    },
    {
      "cell_type": "code",
      "source": [
        "books_with_tags_desc.to_csv('books_with_description.csv')"
      ],
      "metadata": {
        "id": "68NOKdID0Oep"
      },
      "execution_count": null,
      "outputs": []
    },
    {
      "cell_type": "markdown",
      "source": [
        "## segundo enfoque."
      ],
      "metadata": {
        "id": "kJ4HmXTu4XW0"
      }
    },
    {
      "cell_type": "code",
      "source": [
        "# Importar las bibliotecas necesarias\n",
        "# Clonar el repositorio de GitHub\n",
        "!git clone https://github.com/zygmuntz/goodbooks-10k.git\n",
        "\n",
        "import pandas as pd\n",
        "\n",
        "# Cargar las bases de datos\n",
        "books = pd.read_csv('goodbooks-10k/books.csv')\n",
        "tags = pd.read_csv('goodbooks-10k/tags.csv')\n",
        "book_tags = pd.read_csv('goodbooks-10k/book_tags.csv')\n",
        "\n",
        "# Unir 'books' con 'book_tags' usando 'goodreads_book_id'\n",
        "books_with_tags = pd.merge(books, book_tags, on='goodreads_book_id', how='left')\n",
        "\n",
        "# Unir el resultado con 'tags' usando 'tag_id'\n",
        "books_with_tags_desc = pd.merge(books_with_tags, tags, on='tag_id', how='left')\n"
      ],
      "metadata": {
        "id": "DlM_RNWd4ZR6",
        "outputId": "64324446-ca83-4c21-b7f6-14fb6f71dfd1",
        "colab": {
          "base_uri": "https://localhost:8080/"
        }
      },
      "execution_count": 2,
      "outputs": [
        {
          "output_type": "stream",
          "name": "stdout",
          "text": [
            "Cloning into 'goodbooks-10k'...\n",
            "remote: Enumerating objects: 66, done.\u001b[K\n",
            "remote: Total 66 (delta 0), reused 0 (delta 0), pack-reused 66\u001b[K\n",
            "Receiving objects: 100% (66/66), 118.23 MiB | 31.49 MiB/s, done.\n",
            "Resolving deltas: 100% (17/17), done.\n"
          ]
        }
      ]
    },
    {
      "cell_type": "code",
      "source": [
        "# Ordenar los libros por su calificación promedio y número de calificaciones\n",
        "top_books = books.sort_values(by=['average_rating', 'ratings_count'], ascending=False)\n",
        "\n",
        "def recommend_books_based_on_popularity(n=5):\n",
        "    return top_books.head(n)"
      ],
      "metadata": {
        "id": "qpIdxXSK4aJ0"
      },
      "execution_count": 3,
      "outputs": []
    },
    {
      "cell_type": "code",
      "source": [
        "def book_chatbot():\n",
        "    print(\"¡Hola! ¿Te gustaría una recomendación de libro?\")\n",
        "    response = input(\"Responde sí o no: \").lower()\n",
        "\n",
        "    if response == 'sí':\n",
        "        n = int(input(\"¿Cuántos libros te gustaría que te recomiende? \"))\n",
        "        recommendations = recommend_books_based_on_popularity(n)\n",
        "        print(\"\\nAquí tienes tus recomendaciones:\")\n",
        "        for idx, row in recommendations.iterrows():\n",
        "            print(f\"- {row['title']} por {row['authors']} (Calificación: {row['average_rating']})\")\n",
        "    else:\n",
        "        print(\"¡Está bien! Si cambias de opinión, ¡estoy aquí para ayudarte!\")\n"
      ],
      "metadata": {
        "id": "P7jwKeDB4dbH"
      },
      "execution_count": 4,
      "outputs": []
    },
    {
      "cell_type": "code",
      "source": [
        "book_chatbot()"
      ],
      "metadata": {
        "id": "k_YB6RBB4fz8",
        "outputId": "38a8c608-3771-4231-c74a-45ffa42d9424",
        "colab": {
          "base_uri": "https://localhost:8080/"
        }
      },
      "execution_count": 6,
      "outputs": [
        {
          "output_type": "stream",
          "name": "stdout",
          "text": [
            "¡Hola! ¿Te gustaría una recomendación de libro?\n",
            "Responde sí o no: sí\n",
            "¿Cuántos libros te gustaría que te recomiende? 5\n",
            "\n",
            "Aquí tienes tus recomendaciones:\n",
            "- The Complete Calvin and Hobbes por Bill Watterson (Calificación: 4.82)\n",
            "- Words of Radiance (The Stormlight Archive, #2) por Brandon Sanderson (Calificación: 4.77)\n",
            "- Harry Potter Boxed Set, Books 1-5 (Harry Potter, #1-5) por J.K. Rowling, Mary GrandPré (Calificación: 4.77)\n",
            "- Mark of the Lion Trilogy por Francine Rivers (Calificación: 4.76)\n",
            "- ESV Study Bible por Anonymous, Lane T. Dennis, Wayne A. Grudem (Calificación: 4.76)\n"
          ]
        }
      ]
    },
    {
      "cell_type": "code",
      "source": [],
      "metadata": {
        "id": "34XSZYHd4seq"
      },
      "execution_count": 6,
      "outputs": []
    }
  ]
}