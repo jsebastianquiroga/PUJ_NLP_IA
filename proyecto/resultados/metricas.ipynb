{
 "cells": [
  {
   "cell_type": "code",
   "execution_count": 1,
   "metadata": {},
   "outputs": [],
   "source": [
    "import pandas as pd\n",
    "import plotly.express as px\n",
    "import seaborn as sns\n",
    "import matplotlib.pyplot as plt\n",
    "\n",
    "pd.set_option('display.max_columns', None)\n",
    "pd.set_option('display.max_rows', None)\n",
    "import warnings\n",
    "warnings.filterwarnings(\"ignore\")"
   ]
  },
  {
   "cell_type": "markdown",
   "metadata": {},
   "source": [
    "# Notas\n",
    "\n",
    "check 1 equivale a que el prompt retorno una busqueda cercana <br>\n",
    "check 0 equivale a que el prompt retorno una busqueda alejada <br>\n",
    "interesting 1 equivale a prompts que me parecieron interesantes para mi <br>\n",
    "fellings 1 equivale a prompts que mezclaron palabras - me gusta - o parecidas <br>\n",
    "mix 1 equivale a prompts que buscaron dos catgorias ejemplo el primero pidio ciencia ficcion y novela clasica que son dos categorias <br>\n",
    "\n",
    "Inicialmente tenemos del prompt una categoria que asociaron los que la escribieron (type) que luego pasara a llamarse categorias_apriori, luego tenemos la categoria del libro que retorna el modelo (categories) que luego pasara a llamarse categorias_aposteriori. <br>"
   ]
  },
  {
   "cell_type": "code",
   "execution_count": 2,
   "metadata": {},
   "outputs": [
    {
     "data": {
      "text/html": [
       "<div>\n",
       "<style scoped>\n",
       "    .dataframe tbody tr th:only-of-type {\n",
       "        vertical-align: middle;\n",
       "    }\n",
       "\n",
       "    .dataframe tbody tr th {\n",
       "        vertical-align: top;\n",
       "    }\n",
       "\n",
       "    .dataframe thead th {\n",
       "        text-align: right;\n",
       "    }\n",
       "</style>\n",
       "<table border=\"1\" class=\"dataframe\">\n",
       "  <thead>\n",
       "    <tr style=\"text-align: right;\">\n",
       "      <th></th>\n",
       "      <th>id</th>\n",
       "      <th>true</th>\n",
       "      <th>language</th>\n",
       "      <th>type</th>\n",
       "      <th>lengh_words</th>\n",
       "      <th>categories</th>\n",
       "      <th>check</th>\n",
       "      <th>interesting</th>\n",
       "      <th>fellings</th>\n",
       "      <th>mix</th>\n",
       "    </tr>\n",
       "  </thead>\n",
       "  <tbody>\n",
       "    <tr>\n",
       "      <th>0</th>\n",
       "      <td>1</td>\n",
       "      <td>1</td>\n",
       "      <td>es</td>\n",
       "      <td>Science fiction</td>\n",
       "      <td>11</td>\n",
       "      <td>Young Adult Fiction</td>\n",
       "      <td>1</td>\n",
       "      <td>0.0</td>\n",
       "      <td>0.0</td>\n",
       "      <td>1.0</td>\n",
       "    </tr>\n",
       "    <tr>\n",
       "      <th>1</th>\n",
       "      <td>1</td>\n",
       "      <td>1</td>\n",
       "      <td>es</td>\n",
       "      <td>Science fiction</td>\n",
       "      <td>11</td>\n",
       "      <td>Fiction</td>\n",
       "      <td>1</td>\n",
       "      <td>0.0</td>\n",
       "      <td>0.0</td>\n",
       "      <td>1.0</td>\n",
       "    </tr>\n",
       "    <tr>\n",
       "      <th>2</th>\n",
       "      <td>1</td>\n",
       "      <td>1</td>\n",
       "      <td>es</td>\n",
       "      <td>Science fiction</td>\n",
       "      <td>11</td>\n",
       "      <td>Juvenile Fiction</td>\n",
       "      <td>1</td>\n",
       "      <td>0.0</td>\n",
       "      <td>0.0</td>\n",
       "      <td>1.0</td>\n",
       "    </tr>\n",
       "    <tr>\n",
       "      <th>3</th>\n",
       "      <td>1</td>\n",
       "      <td>1</td>\n",
       "      <td>es</td>\n",
       "      <td>Science fiction</td>\n",
       "      <td>11</td>\n",
       "      <td>Juvenile Fiction</td>\n",
       "      <td>1</td>\n",
       "      <td>0.0</td>\n",
       "      <td>0.0</td>\n",
       "      <td>1.0</td>\n",
       "    </tr>\n",
       "    <tr>\n",
       "      <th>4</th>\n",
       "      <td>1</td>\n",
       "      <td>1</td>\n",
       "      <td>es</td>\n",
       "      <td>Science fiction</td>\n",
       "      <td>11</td>\n",
       "      <td>Fantasy fiction, American</td>\n",
       "      <td>1</td>\n",
       "      <td>0.0</td>\n",
       "      <td>0.0</td>\n",
       "      <td>1.0</td>\n",
       "    </tr>\n",
       "  </tbody>\n",
       "</table>\n",
       "</div>"
      ],
      "text/plain": [
       "   id  true language             type  lengh_words                 categories  \\\n",
       "0   1     1       es  Science fiction           11        Young Adult Fiction   \n",
       "1   1     1       es  Science fiction           11                    Fiction   \n",
       "2   1     1       es  Science fiction           11           Juvenile Fiction   \n",
       "3   1     1       es  Science fiction           11           Juvenile Fiction   \n",
       "4   1     1       es  Science fiction           11  Fantasy fiction, American   \n",
       "\n",
       "   check  interesting  fellings  mix  \n",
       "0      1          0.0       0.0  1.0  \n",
       "1      1          0.0       0.0  1.0  \n",
       "2      1          0.0       0.0  1.0  \n",
       "3      1          0.0       0.0  1.0  \n",
       "4      1          0.0       0.0  1.0  "
      ]
     },
     "execution_count": 2,
     "metadata": {},
     "output_type": "execute_result"
    }
   ],
   "source": [
    "pro = pd.read_csv('prompts_salida.csv')\n",
    "pro = pro.fillna(0)\n",
    "pro.insert(1, 'true', 1)\n",
    "pro = pro.loc[:,['id','true','language','type','lengh_words','categories', 'check','interesting', 'fellings', 'mix']]\n",
    "pro.head()"
   ]
  },
  {
   "cell_type": "code",
   "execution_count": 3,
   "metadata": {},
   "outputs": [
    {
     "data": {
      "text/plain": [
       "check\n",
       "1    298\n",
       "0     52\n",
       "Name: count, dtype: int64"
      ]
     },
     "execution_count": 3,
     "metadata": {},
     "output_type": "execute_result"
    }
   ],
   "source": [
    "# Cuantas busquedas dieron libros cercanos al prompt\n",
    "pro['check'].value_counts()"
   ]
  },
  {
   "cell_type": "code",
   "execution_count": 4,
   "metadata": {},
   "outputs": [
    {
     "data": {
      "text/plain": [
       "interesting\n",
       "0.0    291\n",
       "1.0     59\n",
       "Name: count, dtype: int64"
      ]
     },
     "execution_count": 4,
     "metadata": {},
     "output_type": "execute_result"
    }
   ],
   "source": [
    "# Busquedas interesantes\n",
    "pro['interesting'].value_counts()"
   ]
  },
  {
   "cell_type": "code",
   "execution_count": 5,
   "metadata": {},
   "outputs": [
    {
     "data": {
      "text/plain": [
       "fellings\n",
       "0.0    330\n",
       "1.0     20\n",
       "Name: count, dtype: int64"
      ]
     },
     "execution_count": 5,
     "metadata": {},
     "output_type": "execute_result"
    }
   ],
   "source": [
    "# Cuantas busquedas con palabras me gusta o parecidas\n",
    "pro['fellings'].value_counts()"
   ]
  },
  {
   "cell_type": "code",
   "execution_count": 6,
   "metadata": {},
   "outputs": [
    {
     "data": {
      "text/plain": [
       "mix\n",
       "0.0    285\n",
       "1.0     65\n",
       "Name: count, dtype: int64"
      ]
     },
     "execution_count": 6,
     "metadata": {},
     "output_type": "execute_result"
    }
   ],
   "source": [
    "# Cuantas busquedas suguieren dos categorias\n",
    "pro['mix'].value_counts()"
   ]
  },
  {
   "cell_type": "code",
   "execution_count": 7,
   "metadata": {},
   "outputs": [
    {
     "data": {
      "text/plain": [
       "<Axes: xlabel='lengh_words', ylabel='Density'>"
      ]
     },
     "execution_count": 7,
     "metadata": {},
     "output_type": "execute_result"
    },
    {
     "data": {
      "image/png": "[encoded data removed]",
      "text/plain": [
       "<Figure size 640x480 with 1 Axes>"
      ]
     },
     "metadata": {},
     "output_type": "display_data"
    }
   ],
   "source": [
    "# Numero de palabras por check\n",
    "sns.kdeplot(data=pro, x=\"lengh_words\", hue=\"check\")"
   ]
  },
  {
   "cell_type": "code",
   "execution_count": 8,
   "metadata": {},
   "outputs": [
    {
     "data": {
      "text/html": [
       "<div>\n",
       "<style scoped>\n",
       "    .dataframe tbody tr th:only-of-type {\n",
       "        vertical-align: middle;\n",
       "    }\n",
       "\n",
       "    .dataframe tbody tr th {\n",
       "        vertical-align: top;\n",
       "    }\n",
       "\n",
       "    .dataframe thead th {\n",
       "        text-align: right;\n",
       "    }\n",
       "</style>\n",
       "<table border=\"1\" class=\"dataframe\">\n",
       "  <thead>\n",
       "    <tr style=\"text-align: right;\">\n",
       "      <th>check</th>\n",
       "      <th>categorias_apriori</th>\n",
       "      <th>Porcentaje mal clasificado</th>\n",
       "    </tr>\n",
       "  </thead>\n",
       "  <tbody>\n",
       "    <tr>\n",
       "      <th>11</th>\n",
       "      <td>Literature</td>\n",
       "      <td>0.600000</td>\n",
       "    </tr>\n",
       "    <tr>\n",
       "      <th>10</th>\n",
       "      <td>History</td>\n",
       "      <td>0.440000</td>\n",
       "    </tr>\n",
       "    <tr>\n",
       "      <th>14</th>\n",
       "      <td>Novel</td>\n",
       "      <td>0.300000</td>\n",
       "    </tr>\n",
       "    <tr>\n",
       "      <th>18</th>\n",
       "      <td>Romance</td>\n",
       "      <td>0.266667</td>\n",
       "    </tr>\n",
       "    <tr>\n",
       "      <th>9</th>\n",
       "      <td>Graphic novel</td>\n",
       "      <td>0.200000</td>\n",
       "    </tr>\n",
       "  </tbody>\n",
       "</table>\n",
       "</div>"
      ],
      "text/plain": [
       "check categorias_apriori  Porcentaje mal clasificado\n",
       "11            Literature                    0.600000\n",
       "10               History                    0.440000\n",
       "14                 Novel                    0.300000\n",
       "18               Romance                    0.266667\n",
       "9          Graphic novel                    0.200000"
      ]
     },
     "execution_count": 8,
     "metadata": {},
     "output_type": "execute_result"
    }
   ],
   "source": [
    "tabla_contingencia = pd.crosstab(pro['type'], pro['check'], normalize='index').reset_index()\n",
    "tabla_contingencia = tabla_contingencia.sort_values(by=[0], ascending=False)\n",
    "tabla_contingencia.rename(columns={'type':'categorias_apriori', 0:'Porcentaje mal clasificado'}, inplace=True)\n",
    "tabla_contingencia = tabla_contingencia.loc[:,['categorias_apriori', 'Porcentaje mal clasificado']]\n",
    "tabla_contingencia.head()"
   ]
  },
  {
   "cell_type": "markdown",
   "metadata": {},
   "source": [
    "Entre más largo el prompt mejor sin embargo que sea corto de palabras o tokens no significa que falle, solo aumenta la probabilidad de falla, sin embargo es mas relativo a la categoria apriori.\n",
    "\n",
    "# En esta parte se busco asociar las categorias\n",
    "\n",
    "En esta seccion se buscara ver la relacion entre las categorias apriori y posteriori de las salidas que fueron check 1 <br>\n",
    "Solo se contara con las relaciones mayores a 0.2 (elegido a ojo pero se puede cambiar) <br>\n",
    "Se omiten las categorias_apriori = categorias_aposteriori ya que se buscan ver cambios en la categorizacion. <br>\n",
    "<br>\n",
    "Se encontraron 82 posibles cambios de categorias <br>"
   ]
  },
  {
   "cell_type": "code",
   "execution_count": 9,
   "metadata": {},
   "outputs": [
    {
     "data": {
      "text/html": [
       "<div>\n",
       "<style scoped>\n",
       "    .dataframe tbody tr th:only-of-type {\n",
       "        vertical-align: middle;\n",
       "    }\n",
       "\n",
       "    .dataframe tbody tr th {\n",
       "        vertical-align: top;\n",
       "    }\n",
       "\n",
       "    .dataframe thead th {\n",
       "        text-align: right;\n",
       "    }\n",
       "</style>\n",
       "<table border=\"1\" class=\"dataframe\">\n",
       "  <thead>\n",
       "    <tr style=\"text-align: right;\">\n",
       "      <th></th>\n",
       "      <th>categorias_apriori</th>\n",
       "      <th>categorias_aposteriori</th>\n",
       "      <th>relacion</th>\n",
       "    </tr>\n",
       "  </thead>\n",
       "  <tbody>\n",
       "    <tr>\n",
       "      <th>561</th>\n",
       "      <td>Graphic novel</td>\n",
       "      <td>Fiction</td>\n",
       "      <td>0.875000</td>\n",
       "    </tr>\n",
       "    <tr>\n",
       "      <th>570</th>\n",
       "      <td>Romance</td>\n",
       "      <td>Fiction</td>\n",
       "      <td>0.818182</td>\n",
       "    </tr>\n",
       "    <tr>\n",
       "      <th>557</th>\n",
       "      <td>Classic literature</td>\n",
       "      <td>Fiction</td>\n",
       "      <td>0.800000</td>\n",
       "    </tr>\n",
       "    <tr>\n",
       "      <th>564</th>\n",
       "      <td>Mystery</td>\n",
       "      <td>Fiction</td>\n",
       "      <td>0.782609</td>\n",
       "    </tr>\n",
       "    <tr>\n",
       "      <th>563</th>\n",
       "      <td>Literature</td>\n",
       "      <td>Fiction</td>\n",
       "      <td>0.750000</td>\n",
       "    </tr>\n",
       "    <tr>\n",
       "      <th>213</th>\n",
       "      <td>Economy</td>\n",
       "      <td>Business &amp; Economics</td>\n",
       "      <td>0.750000</td>\n",
       "    </tr>\n",
       "    <tr>\n",
       "      <th>210</th>\n",
       "      <td>Business</td>\n",
       "      <td>Business &amp; Economics</td>\n",
       "      <td>0.700000</td>\n",
       "    </tr>\n",
       "    <tr>\n",
       "      <th>566</th>\n",
       "      <td>Novel</td>\n",
       "      <td>Fiction</td>\n",
       "      <td>0.571429</td>\n",
       "    </tr>\n",
       "    <tr>\n",
       "      <th>572</th>\n",
       "      <td>Science fiction</td>\n",
       "      <td>Fiction</td>\n",
       "      <td>0.464286</td>\n",
       "    </tr>\n",
       "    <tr>\n",
       "      <th>1240</th>\n",
       "      <td>Self -help</td>\n",
       "      <td>Self-Help</td>\n",
       "      <td>0.450000</td>\n",
       "    </tr>\n",
       "    <tr>\n",
       "      <th>574</th>\n",
       "      <td>Terror</td>\n",
       "      <td>Fiction</td>\n",
       "      <td>0.444444</td>\n",
       "    </tr>\n",
       "    <tr>\n",
       "      <th>559</th>\n",
       "      <td>Fantasy</td>\n",
       "      <td>Fiction</td>\n",
       "      <td>0.428571</td>\n",
       "    </tr>\n",
       "    <tr>\n",
       "      <th>809</th>\n",
       "      <td>Children's literature</td>\n",
       "      <td>Juvenile Fiction</td>\n",
       "      <td>0.380952</td>\n",
       "    </tr>\n",
       "    <tr>\n",
       "      <th>552</th>\n",
       "      <td>Adventure</td>\n",
       "      <td>Fiction</td>\n",
       "      <td>0.307692</td>\n",
       "    </tr>\n",
       "    <tr>\n",
       "      <th>556</th>\n",
       "      <td>Children's literature</td>\n",
       "      <td>Fiction</td>\n",
       "      <td>0.285714</td>\n",
       "    </tr>\n",
       "    <tr>\n",
       "      <th>1115</th>\n",
       "      <td>Literature</td>\n",
       "      <td>Reference</td>\n",
       "      <td>0.250000</td>\n",
       "    </tr>\n",
       "    <tr>\n",
       "      <th>834</th>\n",
       "      <td>Economy</td>\n",
       "      <td>Juvenile Nonfiction</td>\n",
       "      <td>0.250000</td>\n",
       "    </tr>\n",
       "    <tr>\n",
       "      <th>981</th>\n",
       "      <td>Philosophy</td>\n",
       "      <td>Nature</td>\n",
       "      <td>0.250000</td>\n",
       "    </tr>\n",
       "    <tr>\n",
       "      <th>1326</th>\n",
       "      <td>Philosophy</td>\n",
       "      <td>Social Science</td>\n",
       "      <td>0.250000</td>\n",
       "    </tr>\n",
       "    <tr>\n",
       "      <th>847</th>\n",
       "      <td>Science</td>\n",
       "      <td>Juvenile Nonfiction</td>\n",
       "      <td>0.222222</td>\n",
       "    </tr>\n",
       "  </tbody>\n",
       "</table>\n",
       "</div>"
      ],
      "text/plain": [
       "         categorias_apriori categorias_aposteriori  relacion\n",
       "561           Graphic novel                Fiction  0.875000\n",
       "570                 Romance                Fiction  0.818182\n",
       "557      Classic literature                Fiction  0.800000\n",
       "564                 Mystery                Fiction  0.782609\n",
       "563              Literature                Fiction  0.750000\n",
       "213                 Economy   Business & Economics  0.750000\n",
       "210                Business   Business & Economics  0.700000\n",
       "566                   Novel                Fiction  0.571429\n",
       "572         Science fiction                Fiction  0.464286\n",
       "1240             Self -help              Self-Help  0.450000\n",
       "574                  Terror                Fiction  0.444444\n",
       "559                 Fantasy                Fiction  0.428571\n",
       "809   Children's literature       Juvenile Fiction  0.380952\n",
       "552               Adventure                Fiction  0.307692\n",
       "556   Children's literature                Fiction  0.285714\n",
       "1115             Literature              Reference  0.250000\n",
       "834                 Economy    Juvenile Nonfiction  0.250000\n",
       "981              Philosophy                 Nature  0.250000\n",
       "1326             Philosophy         Social Science  0.250000\n",
       "847                 Science    Juvenile Nonfiction  0.222222"
      ]
     },
     "execution_count": 9,
     "metadata": {},
     "output_type": "execute_result"
    }
   ],
   "source": [
    "df = pro.copy()\n",
    "df = df[df['check'] == 1]\n",
    "\n",
    "# Calcular la tabla de contingencia\n",
    "tabla_contingencia = pd.crosstab(df['type'], df['categories'], normalize='index')\n",
    "relaciones_filtradas = tabla_contingencia[\n",
    "    (tabla_contingencia >= 0.2)     # Porcentaje\n",
    "]\n",
    "\n",
    "columnas_derretir = relaciones_filtradas.columns\n",
    "\n",
    "relaciones_filtradas = relaciones_filtradas.reset_index()\n",
    "relaciones_filtradas.rename(columns={'type':'categorias_apriori'}, inplace=True)\n",
    "\n",
    "# aplicar el método melt() para transformar el DataFrame en formato largo\n",
    "df_relaciones = relaciones_filtradas.melt(id_vars=['categorias_apriori'], \n",
    "                                          value_vars=columnas_derretir,\n",
    "                                          var_name='categorias_aposteriori', \n",
    "                                          value_name='relacion')\n",
    "df_relaciones = df_relaciones.dropna()\n",
    "df_relaciones = df_relaciones[(df_relaciones['categorias_apriori'] != df_relaciones['categorias_aposteriori'])] # Si se quieren ver todas las relaciones\n",
    "df_relaciones = df_relaciones.sort_values(by=['relacion'], ascending=False)\n",
    "df_relaciones.head(20)"
   ]
  },
  {
   "cell_type": "code",
   "execution_count": 10,
   "metadata": {},
   "outputs": [
    {
     "data": {
      "text/plain": [
       "30"
      ]
     },
     "execution_count": 10,
     "metadata": {},
     "output_type": "execute_result"
    }
   ],
   "source": [
    "# Posibles cambios\n",
    "df_relaciones.shape[0]"
   ]
  },
  {
   "cell_type": "code",
   "execution_count": 11,
   "metadata": {},
   "outputs": [],
   "source": [
    "# df_relaciones.to_csv('df_relaciones.csv', encoding = 'utf-8-sig', index = False)"
   ]
  },
  {
   "cell_type": "code",
   "execution_count": 12,
   "metadata": {},
   "outputs": [
    {
     "name": "stdout",
     "output_type": "stream",
     "text": [
      "ok_\n"
     ]
    }
   ],
   "source": [
    "print('ok_')"
   ]
  }
 ],
 "metadata": {
  "kernelspec": {
   "display_name": "Python 3",
   "language": "python",
   "name": "python3"
  },
  "language_info": {
   "codemirror_mode": {
    "name": "ipython",
    "version": 3
   },
   "file_extension": ".py",
   "mimetype": "text/x-python",
   "name": "python",
   "nbconvert_exporter": "python",
   "pygments_lexer": "ipython3",
   "version": "3.11.5"
  }
 },
 "nbformat": 4,
 "nbformat_minor": 2
}
