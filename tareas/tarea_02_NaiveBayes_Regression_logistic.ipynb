{
  "nbformat": 4,
  "nbformat_minor": 0,
  "metadata": {
    "colab": {
      "provenance": [],
      "toc_visible": true,
      "include_colab_link": true
    },
    "kernelspec": {
      "name": "python3",
      "display_name": "Python 3"
    },
    "language_info": {
      "name": "python"
    }
  },
  "cells": [
    {
      "cell_type": "markdown",
      "metadata": {
        "id": "view-in-github",
        "colab_type": "text"
      },
      "source": [
        "<a href=\"https://colab.research.google.com/github/jsebastianquiroga/PUJ_NLP_IA/blob/main/tareas/tarea_02_NaiveBayes_Regression_logistic.ipynb\" target=\"_parent\"><img src=\"https://colab.research.google.com/assets/colab-badge.svg\" alt=\"Open In Colab\"/></a>"
      ]
    },
    {
      "cell_type": "code",
      "execution_count": 1,
      "metadata": {
        "colab": {
          "base_uri": "https://localhost:8080/"
        },
        "id": "7VQn8rbdS6wQ",
        "outputId": "2f796e3f-772a-4f35-9a5c-c523a48abf51"
      },
      "outputs": [
        {
          "output_type": "stream",
          "name": "stdout",
          "text": [
            "Mounted at /content/drive\n"
          ]
        }
      ],
      "source": [
        "#montar el drive\n",
        "#https://stackoverflow.com/questions/48905127/importing-py-files-in-google-colab\n",
        "from google.colab import drive\n",
        "drive.mount('/content/drive')"
      ]
    },
    {
      "cell_type": "markdown",
      "source": [
        "#Importar las librerías requeridas"
      ],
      "metadata": {
        "id": "9zeHkUEPT0_M"
      }
    },
    {
      "cell_type": "code",
      "source": [
        "#import pdb\n",
        "#importar las librerias requeridas\n",
        "#importar de nltk el stemming que se puede usar para español\n",
        "import nltk\n",
        "from nltk.corpus import stopwords\n",
        "from nltk.stem import PorterStemmer\n",
        "from nltk.tokenize import word_tokenize, sent_tokenize\n",
        "import numpy as np\n",
        "\n",
        "import string\n",
        "import re\n",
        "\n",
        "nltk.download('stopwords')"
      ],
      "metadata": {
        "colab": {
          "base_uri": "https://localhost:8080/"
        },
        "id": "Fwyl4NhZT0BH",
        "outputId": "dc72bebf-cdee-4442-f8f5-a7c149805fa3"
      },
      "execution_count": 2,
      "outputs": [
        {
          "output_type": "stream",
          "name": "stderr",
          "text": [
            "[nltk_data] Downloading package stopwords to /root/nltk_data...\n",
            "[nltk_data]   Unzipping corpora/stopwords.zip.\n"
          ]
        },
        {
          "output_type": "execute_result",
          "data": {
            "text/plain": [
              "True"
            ]
          },
          "metadata": {},
          "execution_count": 2
        }
      ]
    },
    {
      "cell_type": "markdown",
      "source": [
        "#Cargar los datos"
      ],
      "metadata": {
        "id": "SxOU1Z6aT9ir"
      }
    },
    {
      "cell_type": "code",
      "source": [
        "def load_data(file_name):\n",
        "    \"\"\"\n",
        "    Input:\n",
        "        \"file_name\" la ruta donde se puede encontrar el archivo de texto que contiene los trinos.\n",
        "    Output:\n",
        "        data_x: lista con los trinos\n",
        "        data_y: lista con las etiquetas/ variable objetivo\n",
        "    \"\"\"\n",
        "    data_x = []\n",
        "    data_y = []\n",
        "\n",
        "    with open(file_name, 'r', encoding='utf-8') as file:\n",
        "        reader = csv.reader(file)\n",
        "        next(reader)\n",
        "        for row in reader:\n",
        "            tweet, label = row[0], row[3]\n",
        "            data_x.append(tweet)\n",
        "            data_y.append(label)\n",
        "\n",
        "    return data_x, data_y"
      ],
      "metadata": {
        "id": "BpnXiuY72vTq"
      },
      "execution_count": 35,
      "outputs": []
    },
    {
      "cell_type": "code",
      "source": [
        "# Conexion a gdrive\n",
        "from pydrive.auth import GoogleAuth\n",
        "from google.colab import drive\n",
        "from pydrive.drive import GoogleDrive\n",
        "from google.colab import auth\n",
        "\n",
        "from oauth2client.client import GoogleCredentials\n",
        "auth.authenticate_user()\n",
        "gauth = GoogleAuth()\n",
        "gauth.credentials = GoogleCredentials.get_application_default()\n",
        "drive = GoogleDrive(gauth)\n",
        "\n",
        "file_name = '1Ht7XBuNH1KEWLzeyQFKAyDij2xSE1ISQ'\n",
        "download = drive.CreateFile({'id': file_name})\n",
        "download.GetContentFile('tweets.csv')\n",
        "\n",
        "\n",
        "data_x, data_y = load_data('tweets.csv')\n",
        "print(\"datos_x = {}, datos_y = {}\".format(len(data_x), len(data_y)))"
      ],
      "metadata": {
        "id": "lpM6o2D14KOk",
        "outputId": "757e0f75-756d-4969-ee6a-6c9bad3b6ea4",
        "colab": {
          "base_uri": "https://localhost:8080/"
        }
      },
      "execution_count": 27,
      "outputs": [
        {
          "output_type": "stream",
          "name": "stdout",
          "text": [
            "datos_x = 2305, datos_y = 2305\n"
          ]
        }
      ]
    },
    {
      "cell_type": "markdown",
      "source": [
        "\n",
        "**Expected output:**\n",
        "```\n",
        "datos_x = 2305, datos_y = 2305\n",
        "```\n",
        "\n"
      ],
      "metadata": {
        "id": "ENzpETWHijC0"
      }
    },
    {
      "cell_type": "markdown",
      "source": [
        "#Convertir la variable objetivo"
      ],
      "metadata": {
        "id": "KkVd8wgvleAs"
      }
    },
    {
      "cell_type": "code",
      "source": [
        "def convertir_variable_obj(lista):\n",
        "    \"\"\"\n",
        "    input:\n",
        "        \"lista\" que contiene la etiqueta de la variable objetivo en formato string. Ejemplo: [\"neg\", \"pos\", \"neu\"]\n",
        "    Ouput:\n",
        "        \"y\" lista con la etiqueta de la variable objetivo en formato integer. Ejemplo: [0, 1, 1]\n",
        "        tenga en cuenta que los valores neutros se transforman a 1\n",
        "    \"\"\"\n",
        "    y = []\n",
        "    for row in lista:\n",
        "        if row == 'neg':\n",
        "            y.append(0)\n",
        "        elif row in ['pos', 'neu']:\n",
        "            y.append(1)\n",
        "        else:  # Unexpected value\n",
        "            print(f\"Unexpected label: {row}. Treating it as 'neutral'.\")\n",
        "            y.append(1)\n",
        "\n",
        "    return y"
      ],
      "metadata": {
        "id": "8_2AyCVW59C-"
      },
      "execution_count": 40,
      "outputs": []
    },
    {
      "cell_type": "code",
      "source": [
        "y = convertir_variable_obj(data_y)\n",
        "print(y[:5])"
      ],
      "metadata": {
        "id": "LsZjcIYi6oZc",
        "outputId": "1bba2840-bbbf-48de-a585-63c4a0e2c772",
        "colab": {
          "base_uri": "https://localhost:8080/"
        }
      },
      "execution_count": 41,
      "outputs": [
        {
          "output_type": "stream",
          "name": "stdout",
          "text": [
            "[0, 1, 0, 0, 0]\n"
          ]
        }
      ]
    },
    {
      "cell_type": "markdown",
      "source": [
        "**Expected output**\n",
        "\n",
        "\n",
        "```\n",
        "y = convertir_variable_obj(data_y)\n",
        "print(y[:5])\n",
        "output: [0, 1, 0, 0, 0]\n",
        "```\n",
        "\n"
      ],
      "metadata": {
        "id": "n18u8NQkjqr2"
      }
    },
    {
      "cell_type": "markdown",
      "source": [
        "#Dividir los datos en entrenamiento y prueba"
      ],
      "metadata": {
        "id": "fl-9twAJjngP"
      }
    },
    {
      "cell_type": "code",
      "source": [
        "import random\n",
        "def train_validation_test_split(data, train_percent, test_percent):\n",
        "    \"\"\"\n",
        "    Splits the input data to  train/validation/test according to the percentage provided\n",
        "\n",
        "    Args:\n",
        "        data: Pre-processed and tokenized corpus, i.e. list of sentences.\n",
        "        train_percent: integer 0-100, defines the portion of input corpus allocated for training\n",
        "        test_percent: integer 0-100, defines the portion of input corpus allocated for validation\n",
        "\n",
        "        Note: train_percent + test_percent need to be = 100\n",
        "\n",
        "    Returns:\n",
        "        train_data: list of sentences, the training part of the corpus\n",
        "        test_data: list of sentences, the test part of the corpus\n",
        "    \"\"\"\n",
        "    # fixed seed here for reproducibility\n",
        "    random.seed(87)\n",
        "\n",
        "    # reshuffle all input sentences\n",
        "    random.shuffle(data)\n",
        "\n",
        "    train_size = int(len(data) * train_percent / 100)\n",
        "    train_data = data[0:train_size]\n",
        "\n",
        "    test_size = int(len(data) * test_percent / 100)\n",
        "    test_data = data[train_size:train_size + test_size]\n",
        "\n",
        "    return train_data, test_data"
      ],
      "metadata": {
        "id": "KAv5NDIWjnOm"
      },
      "execution_count": 42,
      "outputs": []
    },
    {
      "cell_type": "code",
      "source": [
        "train_x, test_x = train_validation_test_split(data_x, 80, 20)\n",
        "train_y, test_y = train_validation_test_split(y, 80, 20)"
      ],
      "metadata": {
        "id": "282PY4d5kKoS"
      },
      "execution_count": 43,
      "outputs": []
    },
    {
      "cell_type": "code",
      "source": [
        "print(\"train_x = {}, test_x = {}\".format(len(train_x),len(test_x)))\n",
        "print(\"train_y = {}, test_y = {}\".format(len(train_y),len(test_y)))"
      ],
      "metadata": {
        "colab": {
          "base_uri": "https://localhost:8080/"
        },
        "id": "PkUcswsIkULK",
        "outputId": "b7cb6a0c-aea0-4272-d143-9af90ce26539"
      },
      "execution_count": 44,
      "outputs": [
        {
          "output_type": "stream",
          "name": "stdout",
          "text": [
            "train_x = 1844, test_x = 461\n",
            "train_y = 1844, test_y = 461\n"
          ]
        }
      ]
    },
    {
      "cell_type": "markdown",
      "source": [
        "**Expected ouput:**\n",
        "\n",
        "\n",
        "```\n",
        "print(\"train_x = {}, test_x = {}\".format(len(train_x),len(test_x)))\n",
        "print(\"train_y = {}, test_y = {}\".format(len(train_y),len(test_y)))\n",
        "Output:\n",
        "train_x = 1844, test_x = 461\n",
        "train_y = 1844, test_y = 461\n",
        "```\n",
        "\n"
      ],
      "metadata": {
        "id": "ai5ikl-GkDbI"
      }
    },
    {
      "cell_type": "markdown",
      "source": [
        "#Preprocesamiento de trinos"
      ],
      "metadata": {
        "id": "xl39EvGOpExe"
      }
    },
    {
      "cell_type": "code",
      "source": [
        "from nltk.corpus import stopwords\n",
        "from nltk.stem import SnowballStemmer\n",
        "from nltk.tokenize import TweetTokenizer\n",
        "import re\n",
        "import string\n",
        "\n",
        "def process_tweet(tweet):\n",
        "    '''\n",
        "    Input:\n",
        "        tweet: a string containing a tweet\n",
        "    Output:\n",
        "        tweets_clean: a list of words containing the processed tweet\n",
        "\n",
        "    '''\n",
        "    # Using SnowballStemmer for Spanish\n",
        "    stemmer = SnowballStemmer(\"spanish\")\n",
        "    # Spanish stopwords\n",
        "    stopwords_spanish = stopwords.words('spanish')\n",
        "\n",
        "    # remove stock market tickers like $GE\n",
        "    tweet = re.sub(r'\\$\\w*', '', tweet)\n",
        "\n",
        "    # remove old style retweet text \"RT\"\n",
        "    tweet = re.sub(r'^RT[\\s]+', '', tweet)\n",
        "\n",
        "    # remove hyperlinks\n",
        "    tweet = re.sub(r'https?:\\/\\/.*[\\r\\n]*', '', tweet)\n",
        "\n",
        "    # remove hashtags\n",
        "    # only removing the hash # sign from the word\n",
        "    tweet = re.sub(r'#', '', tweet)\n",
        "\n",
        "    # tokenize tweets\n",
        "    tokenizer = TweetTokenizer(preserve_case=False, strip_handles=True, reduce_len=True)\n",
        "    tweet_tokens = tokenizer.tokenize(tweet)\n",
        "\n",
        "    tweets_clean = []\n",
        "    for word in tweet_tokens:\n",
        "        if (word not in stopwords_spanish and  # remove stopwords\n",
        "            word not in string.punctuation):  # remove punctuation\n",
        "            stem_word = stemmer.stem(word)  # stemming word\n",
        "            tweets_clean.append(stem_word)\n",
        "\n",
        "    return tweets_clean"
      ],
      "metadata": {
        "id": "5_Z1fOFm-dSN"
      },
      "execution_count": 47,
      "outputs": []
    },
    {
      "cell_type": "code",
      "source": [
        "custom_tweet = \"HÍPER DESCUENTO EN CAOBBI. No pierdas más tiempo con Pedidos ya. Usá Caobbi y date todos los gustos :)..\"\n",
        "\n",
        "# print cleaned tweeta\n",
        "print(process_tweet(custom_tweet))"
      ],
      "metadata": {
        "id": "D74micbY-fNa",
        "outputId": "a711ea0d-eaa6-4b99-8dc9-0e1fe0820ffe",
        "colab": {
          "base_uri": "https://localhost:8080/"
        }
      },
      "execution_count": 48,
      "outputs": [
        {
          "output_type": "stream",
          "name": "stdout",
          "text": [
            "['hip', 'descuent', 'caobbi', 'pierd', 'tiemp', 'ped', 'usa', 'caobbi', 'dat', 'gust', ':)', '..']\n"
          ]
        }
      ]
    },
    {
      "cell_type": "markdown",
      "source": [
        "**Expected output:**\n",
        "\n",
        "\n",
        "```\n",
        "print(process_tweet(custom_tweet))\n",
        "['hip', 'descuent', 'caobbi', 'pierd', 'tiemp', 'ped', 'usa', 'caobbi', 'dat', 'gust', ':)', '..']\n",
        "```\n",
        "\n"
      ],
      "metadata": {
        "id": "vLg3W3cDl6ir"
      }
    },
    {
      "cell_type": "code",
      "source": [
        "def count_tweets(result, tweets, ys):\n",
        "    '''\n",
        "    Input:\n",
        "        result: a dictionary that will be used to map each pair to its frequency\n",
        "        tweets: a list of tweets\n",
        "        ys: a list corresponding to the sentiment of each tweet (either 0 or 1)\n",
        "    Output:\n",
        "        result: a dictionary mapping each pair to its frequency\n",
        "    '''\n",
        "\n",
        "    for y, tweet in zip(ys, tweets):\n",
        "        for word in process_tweet(tweet):\n",
        "            # define the key, which is the word and label tuple\n",
        "            pair = (word, y)\n",
        "\n",
        "            # if the key exists in the dictionary, increment the count\n",
        "            if pair in result:\n",
        "                result[pair] += 1\n",
        "\n",
        "            # else, if the key is new, add it to the dictionary and set the count to 1\n",
        "            else:\n",
        "                result[pair] = 1\n",
        "\n",
        "    return result\n"
      ],
      "metadata": {
        "id": "5eNaPotp_n84"
      },
      "execution_count": 49,
      "outputs": []
    },
    {
      "cell_type": "code",
      "source": [
        "# Testing your function\n",
        "result = {}\n",
        "tweets = ['híper descuento', 'caobbi pierda tiempo', 'pedido usá caobbi date gusto :)..']\n",
        "ys = [1, 0, 0]\n",
        "print(count_tweets(result, tweets, ys))"
      ],
      "metadata": {
        "id": "tjT9Fn-8_oyi",
        "outputId": "2251f8d7-36f8-456e-d2d9-a796ff4b193a",
        "colab": {
          "base_uri": "https://localhost:8080/"
        }
      },
      "execution_count": 50,
      "outputs": [
        {
          "output_type": "stream",
          "name": "stdout",
          "text": [
            "{('hip', 1): 1, ('descuent', 1): 1, ('caobbi', 0): 2, ('pierd', 0): 1, ('tiemp', 0): 1, ('ped', 0): 1, ('usa', 0): 1, ('dat', 0): 1, ('gust', 0): 1, (':)', 0): 1, ('..', 0): 1}\n"
          ]
        }
      ]
    },
    {
      "cell_type": "markdown",
      "source": [
        "**Expected output**\n",
        "\n",
        "\n",
        "```\n",
        "print(count_tweets(result, tweets, ys))\n",
        "{('hip', 1): 1, ('descuent', 1): 1, ('caobbi', 0): 2, ('pierd', 0): 1, ('tiemp', 0): 1, ('ped', 0): 1, ('usa', 0): 1, ('dat', 0): 1, ('gust', 0): 1, (':)', 0): 1, ('..', 0): 1}\n",
        "```\n",
        "\n"
      ],
      "metadata": {
        "id": "ZDp1Kv26mVAa"
      }
    },
    {
      "cell_type": "code",
      "source": [
        "# Build the freqs dictionary for later uses\n",
        "freqs = count_tweets({}, train_x, train_y)"
      ],
      "metadata": {
        "id": "_MflDaE9pocn"
      },
      "execution_count": 51,
      "outputs": []
    },
    {
      "cell_type": "markdown",
      "source": [
        "#Función apoyo entrenamiento de NV"
      ],
      "metadata": {
        "id": "OKLrKuwwsMsB"
      }
    },
    {
      "cell_type": "code",
      "source": [
        "def lookup(freqs, word, label):\n",
        "    '''\n",
        "    Input:\n",
        "        freqs: a dictionary with the frequency of each pair (or tuple)\n",
        "        word: the word to look up\n",
        "        label: the label corresponding to the word\n",
        "    Output:\n",
        "        n: the number of times the word with its corresponding label appears.\n",
        "    '''\n",
        "    n = 0  # freqs.get((word, label), 0)\n",
        "\n",
        "    pair = (word, label)\n",
        "    if (pair in freqs):\n",
        "        n = freqs[pair]\n",
        "\n",
        "    return n"
      ],
      "metadata": {
        "id": "bimDR7y0seGz"
      },
      "execution_count": 59,
      "outputs": []
    },
    {
      "cell_type": "markdown",
      "source": [
        "#Modelo Naive Bayes"
      ],
      "metadata": {
        "id": "G4OkQtKdrt8a"
      }
    },
    {
      "cell_type": "markdown",
      "source": [
        "##Entrenar el modelo usando Naive Bayes"
      ],
      "metadata": {
        "id": "_ExmqIZDpv0A"
      }
    },
    {
      "cell_type": "code",
      "source": [
        "def train_naive_bayes(freqs, train_x, train_y):\n",
        "    loglikelihood = {}\n",
        "    logprior = 0\n",
        "\n",
        "    # Calculate V, the number of unique words in the vocabulary\n",
        "    vocab = set([pair[0] for pair in freqs.keys()])\n",
        "    V = len(vocab)\n",
        "\n",
        "    # Calculate N_pos, N_neg, V_pos, V_neg\n",
        "    N_pos = N_neg = 0\n",
        "    for pair in freqs.keys():\n",
        "        # if the label is positive (greater than zero)\n",
        "        if pair[1] > 0:\n",
        "            # Increment the number of positive words by the count for this (word, label) pair\n",
        "            N_pos += freqs[pair]\n",
        "        # else, the label is negative\n",
        "        else:\n",
        "            # increment the number of negative words by the count for this (word,label) pair\n",
        "            N_neg += freqs[pair]\n",
        "\n",
        "    # Calculate D, the number of documents\n",
        "    D = len(train_x)\n",
        "\n",
        "    # Calculate D_pos, the number of positive documents\n",
        "    D_pos = sum([1 for y in train_y if y == 1])\n",
        "\n",
        "    # Calculate D_neg, the number of negative documents\n",
        "    D_neg = D - D_pos\n",
        "\n",
        "    # Calculate logprior\n",
        "    logprior = np.log(D_pos) - np.log(D_neg)\n",
        "\n",
        "    # For each word in the vocabulary...\n",
        "    for word in vocab:\n",
        "        # get the positive and negative frequency of the word\n",
        "        freq_pos = freqs.get((word, 1), 0)\n",
        "        freq_neg = freqs.get((word, 0), 0)\n",
        "\n",
        "        # calculate the probability that each word is positive, and negative\n",
        "        p_w_pos = (freq_pos + 1) / (N_pos + V)\n",
        "        p_w_neg = (freq_neg + 1) / (N_neg + V)\n",
        "\n",
        "        # calculate the log likelihood of the word\n",
        "        loglikelihood[word] = np.log(p_w_pos / p_w_neg)\n",
        "\n",
        "    return logprior, loglikelihood"
      ],
      "metadata": {
        "id": "9FA2x_5l_4DE"
      },
      "execution_count": 66,
      "outputs": []
    },
    {
      "cell_type": "code",
      "source": [
        "logprior, loglikelihood = train_naive_bayes(freqs, train_x, train_y)\n",
        "print(\"logprior = {}, loglikelihood = {}\".format(logprior, len(loglikelihood)))"
      ],
      "metadata": {
        "id": "EvzyrDO__36P",
        "outputId": "31667e07-5204-409f-fd39-6e228c2cfdea",
        "colab": {
          "base_uri": "https://localhost:8080/"
        }
      },
      "execution_count": 67,
      "outputs": [
        {
          "output_type": "stream",
          "name": "stdout",
          "text": [
            "logprior = 0.6247650978423644, loglikelihood = 3535\n"
          ]
        }
      ]
    },
    {
      "cell_type": "markdown",
      "source": [
        "**Expected output**\n",
        "\n",
        "\n",
        "```\n",
        "print(\"logprior = {}, loglikelihood = {}\".format(logprior, len(loglikelihood)))\n",
        "logprior = 0.6247650978423644, loglikelihood = 3542\n",
        "```\n",
        "\n"
      ],
      "metadata": {
        "id": "QBz4PjXRm4xF"
      }
    },
    {
      "cell_type": "markdown",
      "source": [
        "##Predecir la polaridad de un trino usando NV"
      ],
      "metadata": {
        "id": "c5q_IpUmqdjA"
      }
    },
    {
      "cell_type": "code",
      "source": [
        "def naive_bayes_predict(tweet, logprior, loglikelihood):\n",
        "    '''\n",
        "    Input:\n",
        "        tweet: a string\n",
        "        logprior: a number\n",
        "        loglikelihood: a dictionary of words mapping to numbers\n",
        "    Output:\n",
        "        p: the sum of all the loglikelihoods of each word in the tweet (if found in the dictionary) + logprior (a number)\n",
        "    '''\n",
        "    ### START CODE HERE ###\n",
        "    # process the tweet to get a list of words\n",
        "    word_l = process_tweet(tweet) # Assuming you have this function implemented somewhere\n",
        "\n",
        "    # initialize probability with the logprior\n",
        "    p = logprior\n",
        "\n",
        "    for word in word_l:\n",
        "        # check if the word exists in the loglikelihood dictionary\n",
        "        if word in loglikelihood:\n",
        "            # add the log likelihood of that word to the probability\n",
        "            p += loglikelihood[word]\n",
        "\n",
        "    ### END CODE HERE ###\n",
        "\n",
        "    return p"
      ],
      "metadata": {
        "id": "Z_RRMrWKCc3A"
      },
      "execution_count": 68,
      "outputs": []
    },
    {
      "cell_type": "code",
      "source": [
        "# Experiment with your own tweet.\n",
        "my_tweet = 'ayer te enojaste mucho por lo de Caobbi entonces tenías el Cabronavirus'\n",
        "p = naive_bayes_predict(my_tweet, logprior, loglikelihood)\n",
        "print('The expected output is', p)"
      ],
      "metadata": {
        "colab": {
          "base_uri": "https://localhost:8080/"
        },
        "id": "DcH7vGnHqsQb",
        "outputId": "6528b01d-032e-4f09-fed5-c05c8faaf92d"
      },
      "execution_count": null,
      "outputs": [
        {
          "output_type": "stream",
          "name": "stdout",
          "text": [
            "The expected output is -1.3200948312471894\n"
          ]
        }
      ]
    },
    {
      "cell_type": "markdown",
      "source": [
        "**Expected output**\n",
        "\n",
        "```\n",
        "-1.3200948312471894\n",
        "```\n",
        "\n"
      ],
      "metadata": {
        "id": "GFz9DfOLnpX9"
      }
    },
    {
      "cell_type": "code",
      "source": [
        "# Experiment with your own tweet.\n",
        "my_tweet = 'estoy en el cielo y nunca me di cuenta gracias caobbi'\n",
        "p = naive_bayes_predict(my_tweet, logprior, loglikelihood)\n",
        "print('The expected output is', p)"
      ],
      "metadata": {
        "colab": {
          "base_uri": "https://localhost:8080/"
        },
        "id": "AJ_xBFM0q5Hp",
        "outputId": "76215224-7cc7-4753-aa14-f853ab4fffe9"
      },
      "execution_count": 70,
      "outputs": [
        {
          "output_type": "stream",
          "name": "stdout",
          "text": [
            "The expected output is 0.9821897578944335\n"
          ]
        }
      ]
    },
    {
      "cell_type": "markdown",
      "source": [
        "**Expected output**\n",
        "\n",
        "\n",
        "```\n",
        "0.980709886971538\n",
        "```\n",
        "\n"
      ],
      "metadata": {
        "id": "yUWD5i3qnyZp"
      }
    },
    {
      "cell_type": "markdown",
      "source": [
        "##Evaluar el desempeño del modelo"
      ],
      "metadata": {
        "id": "nu2yihRir0pr"
      }
    },
    {
      "cell_type": "code",
      "source": [
        "import numpy as np\n",
        "\n",
        "def test_naive_bayes(test_x, test_y, logprior, loglikelihood, naive_bayes_predict=naive_bayes_predict):\n",
        "    \"\"\"\n",
        "    Input:\n",
        "        test_x: A list of tweets\n",
        "        test_y: the corresponding labels for the list of tweets\n",
        "        logprior: the logprior\n",
        "        loglikelihood: a dictionary with the loglikelihoods for each word\n",
        "    Output:\n",
        "        accuracy: (# of tweets classified correctly)/(total # of tweets)\n",
        "    \"\"\"\n",
        "    accuracy = 0  # return this properly\n",
        "\n",
        "    ### START CODE HERE ###\n",
        "    y_hats = []\n",
        "    for tweet in test_x:\n",
        "        # if the prediction is > 0\n",
        "        if naive_bayes_predict(tweet, logprior, loglikelihood) > 0:\n",
        "            # the predicted class is 1\n",
        "            y_hat_i = 1\n",
        "        else:\n",
        "            # otherwise the predicted class is 0\n",
        "            y_hat_i = 0\n",
        "\n",
        "        # append the predicted class to the list y_hats\n",
        "        y_hats.append(y_hat_i)\n",
        "\n",
        "    # error is the average of the absolute values of the differences between y_hats and test_y\n",
        "    error = np.mean(np.abs(y_hats - np.array(test_y)))\n",
        "\n",
        "    # Accuracy is 1 minus the error\n",
        "    accuracy = 1 - error\n",
        "\n",
        "    ### END CODE HERE ###\n",
        "\n",
        "    return accuracy"
      ],
      "metadata": {
        "id": "yeHgWfwSCxMj"
      },
      "execution_count": 71,
      "outputs": []
    },
    {
      "cell_type": "code",
      "source": [
        "print(\"Naive Bayes accuracy = %0.4f\" %\n",
        "      (test_naive_bayes(test_x, test_y, logprior, loglikelihood)))"
      ],
      "metadata": {
        "colab": {
          "base_uri": "https://localhost:8080/"
        },
        "id": "6rGleYw-uUDw",
        "outputId": "ed1694b8-8153-47b1-bb76-204b90b19b8c"
      },
      "execution_count": null,
      "outputs": [
        {
          "output_type": "stream",
          "name": "stdout",
          "text": [
            "Naive Bayes accuracy = 0.6291\n"
          ]
        }
      ]
    },
    {
      "cell_type": "markdown",
      "source": [
        "**Expected output**\n",
        "\n",
        "```\n",
        "Naive Bayes accuracy = 0.6291\n",
        "```\n",
        "\n"
      ],
      "metadata": {
        "id": "JxQUDu6vpJR5"
      }
    },
    {
      "cell_type": "markdown",
      "source": [
        "##obtener la polaridad por palabras"
      ],
      "metadata": {
        "id": "ApAOkm8CCT0o"
      }
    },
    {
      "cell_type": "code",
      "source": [
        "def get_ratio(freqs, word):\n",
        "    '''\n",
        "    Input:\n",
        "        freqs: dictionary containing the words\n",
        "\n",
        "    Output: a dictionary with keys 'positive', 'negative', and 'ratio'.\n",
        "        Example: {'positive': 10, 'negative': 20, 'ratio': 0.5}\n",
        "    '''\n",
        "    pos_neg_ratio = {'positive': 0, 'negative': 0, 'ratio': 0.0}\n",
        "    ### START CODE HERE ###\n",
        "    # use lookup() to find positive counts for the word (denoted by the integer 1)\n",
        "    pos_neg_ratio['positive'] = lookup(freqs, word, 1)\n",
        "\n",
        "    # use lookup() to find negative counts for the word (denoted by integer 0)\n",
        "    pos_neg_ratio['negative'] = lookup(freqs, word, 0)\n",
        "\n",
        "    # calculate the ratio of positive to negative counts for the word\n",
        "    pos_neg_ratio['ratio'] = (pos_neg_ratio['positive'] + 1) / (pos_neg_ratio['negative'] + 1)\n",
        "    ### END CODE HERE ###\n",
        "    return pos_neg_ratio"
      ],
      "metadata": {
        "id": "5Qu75LgeC_9Y"
      },
      "execution_count": 73,
      "outputs": []
    },
    {
      "cell_type": "code",
      "source": [
        "get_ratio(freqs, 'antoj')"
      ],
      "metadata": {
        "id": "QP6C21SGC_3q",
        "outputId": "242602a7-b8e3-4804-d9bc-21f20608b533",
        "colab": {
          "base_uri": "https://localhost:8080/"
        }
      },
      "execution_count": 74,
      "outputs": [
        {
          "output_type": "execute_result",
          "data": {
            "text/plain": [
              "{'positive': 7, 'negative': 0, 'ratio': 8.0}"
            ]
          },
          "metadata": {},
          "execution_count": 74
        }
      ]
    },
    {
      "cell_type": "markdown",
      "source": [
        "**Expected output**\n",
        "\n",
        "\n",
        "```\n",
        "get_ratio(freqs, 'antoj')\n",
        "{'negative': 0, 'positive': 7, 'ratio': 8.0}\n",
        "```\n",
        "\n"
      ],
      "metadata": {
        "id": "NDmKGszlpWDW"
      }
    },
    {
      "cell_type": "markdown",
      "source": [
        "##Obtener la polaridad según el margen de analísis"
      ],
      "metadata": {
        "id": "4oQecEL7Cock"
      }
    },
    {
      "cell_type": "code",
      "source": [
        "def get_words_by_threshold(freqs, label, threshold, get_ratio=get_ratio):\n",
        "    '''\n",
        "    Input:\n",
        "        freqs: dictionary of words\n",
        "        label: 1 for positive, 0 for negative\n",
        "        threshold: ratio that will be used as the cutoff for including a word in the returned dictionary\n",
        "    Output:\n",
        "        word_list: dictionary containing the word and information on its positive count, negative count, and ratio of positive to negative counts.\n",
        "        example of a key value pair:\n",
        "        {'happi':\n",
        "            {'positive': 10, 'negative': 20, 'ratio': 0.5}\n",
        "        }\n",
        "    '''\n",
        "    word_list = {}\n",
        "\n",
        "    ### START CODE HERE ###\n",
        "    for key in freqs.keys():\n",
        "        word, _ = key\n",
        "\n",
        "        # get the positive/negative ratio for a word\n",
        "        pos_neg_ratio = get_ratio(freqs, word)\n",
        "\n",
        "        # if the label is 1 and the ratio is greater than or equal to the threshold...\n",
        "        if label == 1 and pos_neg_ratio['ratio'] >= threshold:\n",
        "\n",
        "            # Add the pos_neg_ratio to the dictionary\n",
        "            word_list[word] = pos_neg_ratio\n",
        "\n",
        "        # If the label is 0 and the pos_neg_ratio is less than or equal to the threshold...\n",
        "        elif label == 0 and pos_neg_ratio['ratio'] <= threshold:\n",
        "\n",
        "            # Add the pos_neg_ratio to the dictionary\n",
        "            word_list[word] = pos_neg_ratio\n",
        "\n",
        "        # otherwise, do not include this word in the list (do nothing)\n",
        "\n",
        "    ### END CODE HERE ###\n",
        "    return word_list"
      ],
      "metadata": {
        "id": "gkiZ5elyDNaS"
      },
      "execution_count": 75,
      "outputs": []
    },
    {
      "cell_type": "code",
      "source": [
        "# Test your function: find negative words at or below a threshold\n",
        "get_words_by_threshold(freqs, label=0, threshold=0.30)"
      ],
      "metadata": {
        "colab": {
          "base_uri": "https://localhost:8080/"
        },
        "id": "d3D6W4EkC6Qs",
        "outputId": "6b9b7569-f584-433a-c7c8-180cc80067db"
      },
      "execution_count": null,
      "outputs": [
        {
          "output_type": "execute_result",
          "data": {
            "text/plain": [
              "{'12': {'negative': 3, 'positive': 0, 'ratio': 0.25},\n",
              " 'aburr': {'negative': 3, 'positive': 0, 'ratio': 0.25},\n",
              " 'cabez': {'negative': 3, 'positive': 0, 'ratio': 0.25},\n",
              " 'drog': {'negative': 7, 'positive': 1, 'ratio': 0.25},\n",
              " 'entro': {'negative': 3, 'positive': 0, 'ratio': 0.25},\n",
              " 'fot': {'negative': 3, 'positive': 0, 'ratio': 0.25},\n",
              " 'hiz': {'negative': 3, 'positive': 0, 'ratio': 0.25},\n",
              " 'infinit': {'negative': 3, 'positive': 0, 'ratio': 0.25},\n",
              " 'merd': {'negative': 4, 'positive': 0, 'ratio': 0.2},\n",
              " 'now': {'negative': 4, 'positive': 0, 'ratio': 0.2},\n",
              " 'off': {'negative': 3, 'positive': 0, 'ratio': 0.25},\n",
              " 'preci': {'negative': 3, 'positive': 0, 'ratio': 0.25},\n",
              " 'present': {'negative': 3, 'positive': 0, 'ratio': 0.25},\n",
              " 'produt': {'negative': 3, 'positive': 0, 'ratio': 0.25},\n",
              " 'rap': {'negative': 3, 'positive': 0, 'ratio': 0.25},\n",
              " 'rock': {'negative': 4, 'positive': 0, 'ratio': 0.2},\n",
              " 'uns': {'negative': 3, 'positive': 0, 'ratio': 0.25},\n",
              " 'vas': {'negative': 3, 'positive': 0, 'ratio': 0.25},\n",
              " 'wach': {'negative': 4, 'positive': 0, 'ratio': 0.2},\n",
              " '✌': {'negative': 3, 'positive': 0, 'ratio': 0.25},\n",
              " '👉🏻': {'negative': 3, 'positive': 0, 'ratio': 0.25},\n",
              " '👌': {'negative': 3, 'positive': 0, 'ratio': 0.25},\n",
              " '🙌🏻': {'negative': 5, 'positive': 0, 'ratio': 0.16666666666666666},\n",
              " '🤦🏻\\u200d♂': {'negative': 5, 'positive': 0, 'ratio': 0.16666666666666666},\n",
              " '🤮': {'negative': 3, 'positive': 0, 'ratio': 0.25}}"
            ]
          },
          "metadata": {},
          "execution_count": 30
        }
      ]
    },
    {
      "cell_type": "markdown",
      "source": [
        "**Expected output**\n",
        "\n",
        "```\n",
        "get_words_by_threshold(freqs, label=0, threshold=0.30)\n",
        "\n",
        "{'12': {'negative': 3, 'positive': 0, 'ratio': 0.25},\n",
        " 'aburr': {'negative': 3, 'positive': 0, 'ratio': 0.25},\n",
        " 'cabez': {'negative': 3, 'positive': 0, 'ratio': 0.25},\n",
        " 'drog': {'negative': 7, 'positive': 1, 'ratio': 0.25},\n",
        " 'entro': {'negative': 3, 'positive': 0, 'ratio': 0.25},\n",
        " 'fot': {'negative': 3, 'positive': 0, 'ratio': 0.25},\n",
        " 'hiz': {'negative': 3, 'positive': 0, 'ratio': 0.25},\n",
        " 'infinit': {'negative': 3, 'positive': 0, 'ratio': 0.25},\n",
        " 'merd': {'negative': 4, 'positive': 0, 'ratio': 0.2},\n",
        " 'now': {'negative': 4, 'positive': 0, 'ratio': 0.2},\n",
        " 'off': {'negative': 3, 'positive': 0, 'ratio': 0.25},\n",
        " 'preci': {'negative': 3, 'positive': 0, 'ratio': 0.25},\n",
        " 'present': {'negative': 3, 'positive': 0, 'ratio': 0.25},\n",
        " 'produt': {'negative': 3, 'positive': 0, 'ratio': 0.25},\n",
        " 'rap': {'negative': 3, 'positive': 0, 'ratio': 0.25},\n",
        " 'rock': {'negative': 4, 'positive': 0, 'ratio': 0.2},\n",
        " 'uns': {'negative': 3, 'positive': 0, 'ratio': 0.25},\n",
        " 'vas': {'negative': 3, 'positive': 0, 'ratio': 0.25},\n",
        " 'wach': {'negative': 4, 'positive': 0, 'ratio': 0.2},\n",
        " '✌': {'negative': 3, 'positive': 0, 'ratio': 0.25},\n",
        " '👉🏻': {'negative': 3, 'positive': 0, 'ratio': 0.25},\n",
        " '👌': {'negative': 3, 'positive': 0, 'ratio': 0.25},\n",
        " '🙌🏻': {'negative': 5, 'positive': 0, 'ratio': 0.16666666666666666},\n",
        " '🤦🏻\\u200d♂': {'negative': 5, 'positive': 0, 'ratio': 0.16666666666666666},\n",
        " '🤮': {'negative': 3, 'positive': 0, 'ratio': 0.25}}\n",
        "```\n",
        "\n"
      ],
      "metadata": {
        "id": "oZn3Mtwxpxqg"
      }
    },
    {
      "cell_type": "code",
      "source": [
        "# Test your function; find positive words at or above a threshold\n",
        "get_words_by_threshold(freqs, label=1, threshold= 7)"
      ],
      "metadata": {
        "colab": {
          "base_uri": "https://localhost:8080/"
        },
        "id": "1nwsPyt1DH6O",
        "outputId": "b250057b-564c-4451-94e9-da1c7df78ad5"
      },
      "execution_count": null,
      "outputs": [
        {
          "output_type": "execute_result",
          "data": {
            "text/plain": [
              "{'antoj': {'negative': 0, 'positive': 7, 'ratio': 8.0},\n",
              " 'cag': {'negative': 0, 'positive': 6, 'ratio': 7.0},\n",
              " 'cont': {'negative': 0, 'positive': 9, 'ratio': 10.0},\n",
              " 'dan': {'negative': 0, 'positive': 6, 'ratio': 7.0},\n",
              " 'encim': {'negative': 0, 'positive': 7, 'ratio': 8.0},\n",
              " 'herman': {'negative': 0, 'positive': 6, 'ratio': 7.0},\n",
              " 'igual': {'negative': 0, 'positive': 6, 'ratio': 7.0},\n",
              " 'nadi': {'negative': 0, 'positive': 6, 'ratio': 7.0},\n",
              " 'ou': {'negative': 0, 'positive': 10, 'ratio': 11.0},\n",
              " 'parec': {'negative': 0, 'positive': 10, 'ratio': 11.0},\n",
              " 'u': {'negative': 0, 'positive': 6, 'ratio': 7.0},\n",
              " 'unas': {'negative': 0, 'positive': 6, 'ratio': 7.0},\n",
              " '😭': {'negative': 3, 'positive': 28, 'ratio': 7.25}}"
            ]
          },
          "metadata": {},
          "execution_count": 31
        }
      ]
    },
    {
      "cell_type": "markdown",
      "source": [
        "**Expect output**\n",
        "\n",
        "\n",
        "\n",
        "```\n",
        "get_words_by_threshold(freqs, label=1, threshold= 7)\n",
        "\n",
        "{'antoj': {'negative': 0, 'positive': 7, 'ratio': 8.0},\n",
        " 'cag': {'negative': 0, 'positive': 6, 'ratio': 7.0},\n",
        " 'cont': {'negative': 0, 'positive': 9, 'ratio': 10.0},\n",
        " 'dan': {'negative': 0, 'positive': 6, 'ratio': 7.0},\n",
        " 'encim': {'negative': 0, 'positive': 7, 'ratio': 8.0},\n",
        " 'herman': {'negative': 0, 'positive': 6, 'ratio': 7.0},\n",
        " 'igual': {'negative': 0, 'positive': 6, 'ratio': 7.0},\n",
        " 'nadi': {'negative': 0, 'positive': 6, 'ratio': 7.0},\n",
        " 'ou': {'negative': 0, 'positive': 10, 'ratio': 11.0},\n",
        " 'parec': {'negative': 0, 'positive': 10, 'ratio': 11.0},\n",
        " 'u': {'negative': 0, 'positive': 6, 'ratio': 7.0},\n",
        " 'unas': {'negative': 0, 'positive': 6, 'ratio': 7.0},\n",
        " '😭': {'negative': 3, 'positive': 28, 'ratio': 7.25}}\n",
        "```\n",
        "\n"
      ],
      "metadata": {
        "id": "CKOa1zQFqNiv"
      }
    },
    {
      "cell_type": "markdown",
      "source": [
        "# Modelo de regresion logistica"
      ],
      "metadata": {
        "id": "oxthsUm-vW2m"
      }
    },
    {
      "cell_type": "markdown",
      "source": [
        "##funcion sigmoid"
      ],
      "metadata": {
        "id": "jzPTjO81xwnq"
      }
    },
    {
      "cell_type": "code",
      "source": [
        "import numpy as np\n",
        "\n",
        "def sigmoid(z):\n",
        "    '''\n",
        "    Input:\n",
        "        z: is the input (can be a scalar or an array)\n",
        "    Output:\n",
        "        h: the sigmoid of z\n",
        "    '''\n",
        "\n",
        "    ### START CODE HERE ###\n",
        "    # calculate the sigmoid of z\n",
        "    h = 1 / (1 + np.exp(-z))\n",
        "    ### END CODE HERE ###\n",
        "\n",
        "    return h\n"
      ],
      "metadata": {
        "id": "j8n_T1OhEIwQ"
      },
      "execution_count": 77,
      "outputs": []
    },
    {
      "cell_type": "code",
      "source": [
        "prueba_x = np.random.rand(10, 1)\n",
        "h = sigmoid(prueba_x)\n",
        "print(h.shape)"
      ],
      "metadata": {
        "id": "_Oe-Hf4CEIor",
        "outputId": "f6f56caf-6d36-4bd1-b97e-694913747991",
        "colab": {
          "base_uri": "https://localhost:8080/"
        }
      },
      "execution_count": 78,
      "outputs": [
        {
          "output_type": "stream",
          "name": "stdout",
          "text": [
            "(10, 1)\n"
          ]
        }
      ]
    },
    {
      "cell_type": "markdown",
      "source": [
        "**Expected Output**\n",
        "\n",
        "\n",
        "```\n",
        "print(h.shape)\n",
        "(10, 1)\n",
        "```\n",
        "\n"
      ],
      "metadata": {
        "id": "QfiaUZXiMvJm"
      }
    },
    {
      "cell_type": "markdown",
      "source": [
        "##Implementar el gradiente descendiente"
      ],
      "metadata": {
        "id": "A469MAucx5xr"
      }
    },
    {
      "cell_type": "code",
      "source": [
        "import numpy as np\n",
        "\n",
        "def gradientDescent(x, y, theta, alpha, num_iters):\n",
        "    '''\n",
        "    Input:\n",
        "        x: matrix of features which is (m,n+1)\n",
        "        y: corresponding labels of the input matrix x, dimensions (m,1)\n",
        "        theta: weight vector of dimension (n+1,1)\n",
        "        alpha: learning rate\n",
        "        num_iters: number of iterations you want to train your model for\n",
        "    Output:\n",
        "        J: the final cost\n",
        "        theta: your final weight vector\n",
        "    '''\n",
        "    m = x.shape[0]\n",
        "\n",
        "    for i in range(num_iters):\n",
        "        # Compute prediction\n",
        "        z = np.dot(x, theta)\n",
        "        h = sigmoid(z)\n",
        "\n",
        "        # Compute gradient and error\n",
        "        error = h - y\n",
        "        gradient = np.dot(x.T, error)\n",
        "\n",
        "        # Update weights\n",
        "        theta -= alpha * gradient / m\n",
        "\n",
        "        # Compute cost (optional but can help to check convergence)\n",
        "        J = -1/m * (np.dot(y.T, np.log(h)) + np.dot((1-y).T, np.log(1-h)))\n",
        "\n",
        "    return J, theta\n"
      ],
      "metadata": {
        "id": "SbyI0qlYEd0K"
      },
      "execution_count": 79,
      "outputs": []
    },
    {
      "cell_type": "code",
      "source": [
        "# Construct a synthetic test case using numpy PRNG functions\n",
        "np.random.seed(1)\n",
        "# X input is 10 x 3 with ones for the bias terms\n",
        "tmp_X = np.append(np.ones((10, 1)), np.random.rand(10, 2) * 2000, axis=1)\n",
        "# Y Labels are 10 x 1\n",
        "tmp_Y = (np.random.rand(10, 1) > 0.35).astype(float)\n",
        "\n",
        "# Apply gradient descent\n",
        "tmp_J, tmp_theta = gradientDescent(tmp_X, tmp_Y, np.zeros((3, 1)), 1e-8, 700)\n",
        "print(f\"The cost after training is {tmp_J[0][0]:.8f}.\")\n",
        "print(f\"The resulting vector of weights is {[round(t, 8) for t in np.squeeze(tmp_theta)]}\")"
      ],
      "metadata": {
        "id": "A_6uZvz6Edwg",
        "outputId": "8f01df5e-2ac9-4dd3-a918-fbe3646dd7ca",
        "colab": {
          "base_uri": "https://localhost:8080/"
        }
      },
      "execution_count": 81,
      "outputs": [
        {
          "output_type": "stream",
          "name": "stdout",
          "text": [
            "The cost after training is 0.67094970.\n",
            "The resulting vector of weights is [4.1e-07, 0.00035658, 7.309e-05]\n"
          ]
        }
      ]
    },
    {
      "cell_type": "markdown",
      "source": [
        "**Expected Output**\n",
        "\n",
        "\n",
        "```\n",
        "The cost after training is 0.67094970.\n",
        "The resulting vector of weights is [4.1e-07, 0.00035658, 7.309e-05]\n",
        "```\n",
        "\n"
      ],
      "metadata": {
        "id": "PU9_bbcPM-Gx"
      }
    },
    {
      "cell_type": "markdown",
      "source": [
        "##extracción de caracteristicas"
      ],
      "metadata": {
        "id": "TSx6WGAmyS-O"
      }
    },
    {
      "cell_type": "code",
      "source": [
        "def extract_features(tweet, freqs, process_tweet=process_tweet):\n",
        "    '''\n",
        "    Input:\n",
        "        tweet: a list of words for one tweet\n",
        "        freqs: a dictionary corresponding to the frequencies of each tuple (word, label)\n",
        "    Output:\n",
        "        x: a feature vector of dimension (1,3)\n",
        "    '''\n",
        "    # process_tweet tokenizes, stems, and removes stopwords\n",
        "    word_l = process_tweet(tweet)\n",
        "\n",
        "    # 3 elements in the form of a 1 x 3 vector\n",
        "    x = np.zeros((1, 3))\n",
        "\n",
        "    #bias term is set to 1\n",
        "    x[0,0] = 1\n",
        "\n",
        "    ### START CODE HERE ###\n",
        "\n",
        "    # loop through each word in the list of words\n",
        "    for word in word_l:\n",
        "\n",
        "        # increment the word count for the positive label 1\n",
        "        x[0,1] += freqs.get((word, 1), 0)\n",
        "\n",
        "        # increment the word count for the negative label 0\n",
        "        x[0,2] += freqs.get((word, 0), 0)\n",
        "\n",
        "    ### END CODE HERE ###\n",
        "    assert(x.shape == (1, 3))\n",
        "    return x\n"
      ],
      "metadata": {
        "id": "ht3TXsHwFOu5"
      },
      "execution_count": 82,
      "outputs": []
    },
    {
      "cell_type": "code",
      "source": [
        "# test on training data\n",
        "x = extract_features(train_x[0], freqs)\n",
        "print(train_x[0])\n",
        "#print(word_l)\n",
        "print(x[0])\n",
        "print(type(x[0]))"
      ],
      "metadata": {
        "id": "jGT3pO7yFOnG",
        "outputId": "e3803912-61e9-4ee9-b6bc-18a579bfef62",
        "colab": {
          "base_uri": "https://localhost:8080/"
        }
      },
      "execution_count": 83,
      "outputs": [
        {
          "output_type": "stream",
          "name": "stdout",
          "text": [
            "@JavierSiIva Caobbi puso oferta de hipogloss pa los que tienen el ano irritado\n",
            "[1.00e+00 1.21e+03 6.41e+02]\n",
            "<class 'numpy.ndarray'>\n"
          ]
        }
      ]
    },
    {
      "cell_type": "markdown",
      "source": [
        "**Expected output**\n",
        "\n",
        "\n",
        "```\n",
        "@JavierSiIva Caobbi puso oferta de hipogloss pa los que tienen el ano irritado\n",
        "[1.000e+00 1.211e+03 6.430e+02]\n",
        "<class 'numpy.ndarray'>\n",
        "```\n",
        "\n"
      ],
      "metadata": {
        "id": "0mhpWUfuNHz6"
      }
    },
    {
      "cell_type": "markdown",
      "source": [
        "##Entrenamiento del modelo RL"
      ],
      "metadata": {
        "id": "Dw2tZ7WH-yrh"
      }
    },
    {
      "cell_type": "code",
      "source": [
        "# Assuming train_y exists:\n",
        "Y = np.array(train_y).reshape(-1, 1)  # Convert train_y to a column matrix\n",
        "\n",
        "X = np.zeros((len(train_x), 3))\n",
        "for i in range(len(train_x)):\n",
        "    X[i, :] = extract_features(train_x[i], freqs)\n",
        "\n",
        "# Apply gradient descent\n",
        "J, theta = gradientDescent(X, Y, np.zeros((3, 1)), 1e-9, 1500)\n",
        "print(f\"The cost after training is {J.item():.8f}.\")\n",
        "print(f\"The resulting vector of weights is {[round(t, 8) for t in np.squeeze(theta)]}\")\n"
      ],
      "metadata": {
        "id": "tyY7eD7EFg5Z",
        "outputId": "93503412-f99d-4cb2-8e8e-7bcdd57b614d",
        "colab": {
          "base_uri": "https://localhost:8080/"
        }
      },
      "execution_count": 85,
      "outputs": [
        {
          "output_type": "stream",
          "name": "stdout",
          "text": [
            "The cost after training is 0.65741684.\n",
            "The resulting vector of weights is [1.5e-07, 0.00019851, 0.00010073]\n"
          ]
        }
      ]
    },
    {
      "cell_type": "markdown",
      "source": [
        "**Expected output**\n",
        "\n",
        "\n",
        "```\n",
        "The cost after training is 0.67094970.\n",
        "The resulting vector of weights is [1.5e-07, 0.00019808, 0.00010069]\n",
        "```\n",
        "\n"
      ],
      "metadata": {
        "id": "7s0DIN7ZNTA1"
      }
    },
    {
      "cell_type": "markdown",
      "source": [
        "##Predecir la polaridad de un trino usando modelo RL"
      ],
      "metadata": {
        "id": "2ykQOKxV-2ar"
      }
    },
    {
      "cell_type": "code",
      "source": [
        "def predict_tweet(tweet, freqs, theta):\n",
        "    '''\n",
        "    Input:\n",
        "        tweet: a string\n",
        "        freqs: a dictionary corresponding to the frequencies of each tuple (word, label)\n",
        "        theta: (3,1) vector of weights\n",
        "    Output:\n",
        "        y_pred: the probability of a tweet being positive or negative\n",
        "    '''\n",
        "    ### START CODE HERE ###\n",
        "\n",
        "    # extract the features of the tweet and store it into x\n",
        "    x = extract_features(tweet, freqs)\n",
        "\n",
        "    # make the prediction using x and theta\n",
        "    z = np.dot(x, theta)\n",
        "    y_pred = sigmoid(z)\n",
        "\n",
        "    ### END CODE HERE ###\n",
        "\n",
        "    return y_pred\n"
      ],
      "metadata": {
        "id": "XnajuDM6GBal"
      },
      "execution_count": 86,
      "outputs": []
    },
    {
      "cell_type": "code",
      "source": [
        "# Run this cell to test your function\n",
        "for tweet in ['ayer te enojaste', 'mucho por lo de Caobbi entonces tenías el Cabronavirus', 'estoy en el cielo y nunca me di cuenta gracias caobbi']:\n",
        "    print( '%s -> %f' % (tweet, predict_tweet(tweet, freqs, theta)))"
      ],
      "metadata": {
        "colab": {
          "base_uri": "https://localhost:8080/"
        },
        "id": "phcU8Erw_RpP",
        "outputId": "0a044729-1daf-48cf-b3ba-5e3f1b80841f"
      },
      "execution_count": null,
      "outputs": [
        {
          "output_type": "stream",
          "name": "stdout",
          "text": [
            "ayer te enojaste -> 0.500374\n",
            "mucho por lo de Caobbi entonces tenías el Cabronavirus -> 0.574846\n",
            "estoy en el cielo y nunca me di cuenta gracias caobbi -> 0.578533\n"
          ]
        }
      ]
    },
    {
      "cell_type": "markdown",
      "source": [
        "**Expected output**\n",
        "\n",
        "\n",
        "```\n",
        "ayer te enojaste -> 0.500374\n",
        "mucho por lo de Caobbi entonces tenías el Cabronavirus -> 0.574846\n",
        "estoy en el cielo y nunca me di cuenta gracias caobbi -> 0.578533\n",
        "```\n",
        "\n"
      ],
      "metadata": {
        "id": "Chnw0R3aNcSB"
      }
    },
    {
      "cell_type": "markdown",
      "source": [
        "##Evaluar el desempeño del modelo RL"
      ],
      "metadata": {
        "id": "WvN_1Sc-_mlo"
      }
    },
    {
      "cell_type": "code",
      "source": [
        "def test_logistic_regression(test_x, test_y, freqs, theta, predict_tweet=predict_tweet):\n",
        "    \"\"\"\n",
        "    Input:\n",
        "        test_x: a list of tweets\n",
        "        test_y: (m, 1) vector with the corresponding labels for the list of tweets\n",
        "        freqs: a dictionary with the frequency of each pair (or tuple)\n",
        "        theta: weight vector of dimension (3, 1)\n",
        "    Output:\n",
        "        accuracy: (# of tweets classified correctly) / (total # of tweets)\n",
        "    \"\"\"\n",
        "\n",
        "    ### START CODE HERE ###\n",
        "\n",
        "    # the list for storing predictions\n",
        "    y_hat = []\n",
        "\n",
        "    for tweet in test_x:\n",
        "        # get the label prediction for the tweet\n",
        "        y_pred = predict_tweet(tweet, freqs, theta)\n",
        "\n",
        "        if y_pred > 0.5:\n",
        "            # append 1.0 to the list\n",
        "            y_hat.append(1)\n",
        "        else:\n",
        "            # append 0 to the list\n",
        "            y_hat.append(0)\n",
        "\n",
        "    # With the above implementation, y_hat is a list, but test_y is (m,1) array\n",
        "    # convert both to one-dimensional arrays in order to compare them using the '==' operator\n",
        "    y_hat = np.squeeze(np.array(y_hat))\n",
        "    test_y = np.squeeze(test_y)\n",
        "    correct_predictions = np.sum(y_hat == test_y)\n",
        "\n",
        "    accuracy = correct_predictions / len(test_y)\n",
        "\n",
        "    ### END CODE HERE ###\n",
        "\n",
        "    return accuracy\n"
      ],
      "metadata": {
        "id": "-gClHxP9GNdp"
      },
      "execution_count": 88,
      "outputs": []
    },
    {
      "cell_type": "code",
      "source": [
        "tmp_accuracy = test_logistic_regression(test_x, test_y, freqs, theta)\n",
        "print(f\"Logistic regression model's accuracy = {tmp_accuracy:.4f}\")"
      ],
      "metadata": {
        "id": "-mBkMwGiGNWF",
        "outputId": "4038aaf6-7c17-4871-fcb8-0ca43e070b3c",
        "colab": {
          "base_uri": "https://localhost:8080/"
        }
      },
      "execution_count": 89,
      "outputs": [
        {
          "output_type": "stream",
          "name": "stdout",
          "text": [
            "Logistic regression model's accuracy = 0.6746\n"
          ]
        }
      ]
    },
    {
      "cell_type": "markdown",
      "source": [
        "**Expected output**\n",
        "\n",
        "\n",
        "```\n",
        "Logistic regression model's accuracy = 0.6746\n",
        "```\n",
        "\n"
      ],
      "metadata": {
        "id": "Cdohl6ZgNkBV"
      }
    }
  ]
}